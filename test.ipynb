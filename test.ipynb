{
 "cells": [
  {
   "cell_type": "code",
   "execution_count": 5,
   "metadata": {},
   "outputs": [
    {
     "name": "stdout",
     "output_type": "stream",
     "text": [
      "每个项目中员工最少的开发工时总和为: 9\n"
     ]
    }
   ],
   "source": [
    "import heapq\n",
    "\n",
    "def minWorkHours(tasks, n):\n",
    "    # 获取项目数量\n",
    "    num_projects = len(tasks)\n",
    "    \n",
    "    # 将所有任务按工作时长降序排列\n",
    "    all_tasks = []\n",
    "    for project_tasks in tasks:\n",
    "        all_tasks.extend(project_tasks)\n",
    "    all_tasks.sort(reverse=True)\n",
    "    \n",
    "    # 初始化一个最小堆，用于存储员工的工作时长\n",
    "    min_heap = [0] * n\n",
    "    \n",
    "    # 遍历所有任务，将任务分配给员工\n",
    "    for task_hours in all_tasks:\n",
    "        # 找到工作时长最短的员工\n",
    "        min_worker = heapq.heappop(min_heap)\n",
    "        # 分配任务给员工\n",
    "        min_worker += task_hours\n",
    "        # 将员工的工作时长重新加入堆中\n",
    "        heapq.heappush(min_heap, min_worker)\n",
    "    \n",
    "    # 返回员工工作时长最长的值，因为这是总工时最小的项目\n",
    "    return max(min_heap)\n",
    "\n",
    "# 示例用法\n",
    "tasks = [\n",
    "    [3, 2, 4],\n",
    "    [4, 5, 1],\n",
    "    [1, 2, 3]\n",
    "]\n",
    "n = 3\n",
    "\n",
    "result = minWorkHours(tasks, n)\n",
    "print(\"每个项目中员工最少的开发工时总和为:\", result)\n"
   ]
  },
  {
   "cell_type": "code",
   "execution_count": 6,
   "metadata": {},
   "outputs": [
    {
     "name": "stdout",
     "output_type": "stream",
     "text": [
      "每个项目中员工最少的开发工时总和为: 9\n"
     ]
    }
   ],
   "source": [
    "def minWorkHours(tasks, n):\n",
    "    # 获取项目数量\n",
    "    num_projects = len(tasks)\n",
    "    \n",
    "    # 将所有任务按工作时长降序排列\n",
    "    all_tasks = []\n",
    "    for project_tasks in tasks:\n",
    "        all_tasks.extend(project_tasks)\n",
    "    all_tasks.sort(reverse=True)\n",
    "    \n",
    "    # 初始化一个数组，用于存储每位员工的工作时长\n",
    "    worker_hours = [0] * n\n",
    "    \n",
    "    # 贪心算法：将任务分配给工作时长最短的员工\n",
    "    for task_hours in all_tasks:\n",
    "        min_worker_index = worker_hours.index(min(worker_hours))\n",
    "        # 分配任务给工作时长最短的员工\n",
    "        worker_hours[min_worker_index] += task_hours\n",
    "    \n",
    "    # 返回员工工作时长最长的值，因为这是总工时最小的项目\n",
    "    return max(worker_hours)\n",
    "\n",
    "# 示例用法\n",
    "tasks = [\n",
    "    [3, 2, 4],\n",
    "    [4, 5, 1],\n",
    "    [1, 2, 3]\n",
    "]\n",
    "n = 3\n",
    "\n",
    "result = minWorkHours(tasks, n)\n",
    "print(\"每个项目中员工最少的开发工时总和为:\", result)\n"
   ]
  },
  {
   "cell_type": "code",
   "execution_count": 6,
   "metadata": {},
   "outputs": [
    {
     "name": "stdout",
     "output_type": "stream",
     "text": [
      "['192.168.1.1/24', '10.0.0.0/8']\n",
      "['172.16.0.0/16']\n",
      "[]\n"
     ]
    }
   ],
   "source": [
    "from typing import List\n",
    "\n",
    "def extract_ip_range(log_line: str) -> List[str]:\n",
    "    log_line_lower = log_line.lower()  # 将输入字符串转换为小写，以不区分大小写查找ERROR\n",
    "\n",
    "    # 检查字符串是否以\"[error]\"开头，如果不是则返回空列表\n",
    "    if not log_line_lower.startswith(\"[error]\"):\n",
    "        return []\n",
    "\n",
    "    # 使用正则表达式来查找IP地址范围\n",
    "    import re\n",
    "    ip_range_pattern = r'\\d{1,3}\\.\\d{1,3}\\.\\d{1,3}\\.\\d{1,3}/\\d{1,2}'\n",
    "    ip_ranges = re.findall(ip_range_pattern, log_line)\n",
    "\n",
    "    return ip_ranges\n",
    "\n",
    "# 示例用法\n",
    "log_line1 = \"[ERROR] Some error message 192.168.1.1/24 and 10.0.0.0/8\"\n",
    "log_line2 = \"[error] Another error message with IP range 172.16.0.0/16\"\n",
    "log_line3 = \"This is not an error log.\"\n",
    "\n",
    "ip_ranges1 = extract_ip_range(log_line1)\n",
    "ip_ranges2 = extract_ip_range(log_line2)\n",
    "ip_ranges3 = extract_ip_range(log_line3)\n",
    "\n",
    "print(ip_ranges1)  # 输出 ['192.168.1.1/24', '10.0.0.0/8']\n",
    "print(ip_ranges2)  # 输出 ['172.16.0.0/16']\n",
    "print(ip_ranges3)  # 输出 []\n"
   ]
  },
  {
   "cell_type": "code",
   "execution_count": 9,
   "metadata": {},
   "outputs": [
    {
     "name": "stdout",
     "output_type": "stream",
     "text": [
      "['192.168.1.1/24', '10.0.0.0/8']\n"
     ]
    }
   ],
   "source": [
    "from typing import List\n",
    "import re\n",
    "class Solution:\n",
    "    def extract_ip_range(self , log_line: str) -> List[str]:\n",
    "#write code here\n",
    "        log_line_lower = log_line.lower()\n",
    "        if not log_line_lower.startswith(\"[error]\"):\n",
    "            return[]\n",
    "        ip_range_pattern=r'\\d{1,3}l.d{1,3}\\.d{1,3}1.ld{1,3}/\\d{1,2}'\n",
    "        ip_ranges=re.findall(ip_range_pattern,log_line)\n",
    "        return ip_ranges\n",
    "log_line1 = \"[ERROR] Some error message 192.168.1.1/24 and 10.0.0.0/8\"\n",
    "ip_ranges1 = extract_ip_range(log_line1)\n",
    "print(ip_ranges1)"
   ]
  },
  {
   "cell_type": "code",
   "execution_count": null,
   "metadata": {},
   "outputs": [],
   "source": [
    "def extract_ip_range(self , log_line: str) -> List[str]:"
   ]
  },
  {
   "cell_type": "code",
   "execution_count": 8,
   "metadata": {},
   "outputs": [
    {
     "name": "stdout",
     "output_type": "stream",
     "text": [
      "5@4,3,2,1\n",
      "4@3,2,1\n",
      "3@2,1\n",
      "2@1\n",
      "1@\n"
     ]
    }
   ],
   "source": [
    "from typing import List\n",
    "\n",
    "def calculate_patch_inclusions(data: List[str]) -> List[str]:\n",
    "    patch_dict = {}\n",
    "    \n",
    "    # 解析原始数据，建立补丁关系字典\n",
    "    for item in data:\n",
    "        parts = item.split('@')\n",
    "        patch_id = int(parts[0])\n",
    "        includes_str = parts[1]\n",
    "        includes = set()\n",
    "        \n",
    "        if includes_str:  # 检查字符串是否非空\n",
    "            includes.update(map(int, includes_str.split(',')))\n",
    "        \n",
    "        patch_dict[patch_id] = includes\n",
    "    \n",
    "    # 计算包含关系\n",
    "    result = []\n",
    "    for patch_id in sorted(patch_dict.keys(), reverse=True):\n",
    "        included = set()\n",
    "        stack = [patch_id]\n",
    "        \n",
    "        while stack:\n",
    "            current_patch = stack.pop()\n",
    "            included.add(current_patch)\n",
    "            stack.extend(patch_dict[current_patch])\n",
    "        \n",
    "        included.discard(patch_id)\n",
    "        result.append(f\"{patch_id}@{','.join(map(str, sorted(included, reverse=True)))}\")\n",
    "    \n",
    "    return result\n",
    "\n",
    "# 示例用法\n",
    "data = [\"5@4,3\", \"4@3,2\", \"3@2\", \"2@1\", \"1@\"]\n",
    "result = calculate_patch_inclusions(data)\n",
    "for item in result:\n",
    "    print(item)\n"
   ]
  },
  {
   "cell_type": "code",
   "execution_count": 3,
   "metadata": {},
   "outputs": [],
   "source": [
    "from typing import List\n",
    "\n",
    "def find_duplicates(nums: List[int]) -> List[int]:\n",
    "    result = []\n",
    "    n = len(nums)\n",
    "    \n",
    "    for i in range(n):\n",
    "        num = abs(nums[i])\n",
    "        \n",
    "        if nums[num - 1] < 0:\n",
    "            result.append(num)\n",
    "        else:\n",
    "            nums[num - 1] = -nums[num - 1]\n",
    "    \n",
    "    for i in range(n):\n",
    "        nums[i] = abs(nums[i])\n",
    "    \n",
    "    return sorted(result)\n",
    "\n",
    "nums = [4, 3, 2, 7, 8, 2, 1, 4]\n",
    "duplicates = find_duplicates(nums)\n",
    "print(duplicates)  # 输出 [2, 4]\n"
   ]
  },
  {
   "cell_type": "markdown",
   "metadata": {},
   "source": [
    "### 2023/10/09"
   ]
  },
  {
   "cell_type": "code",
   "execution_count": 4,
   "metadata": {},
   "outputs": [
    {
     "name": "stdout",
     "output_type": "stream",
     "text": [
      "19\n"
     ]
    }
   ],
   "source": [
    "from typing import List\n",
    "\n",
    "class Solution:\n",
    "    def maximizeDonations(self, donations: List[int]) -> int:\n",
    "        n = len(donations)\n",
    "        if n == 0:\n",
    "            return 0\n",
    "        elif n == 1:\n",
    "            return donations[0]\n",
    "        \n",
    "        # 初始化两个dp数组，分别表示不选第一个和不选最后一个的情况下的最大捐款数\n",
    "        dp1 = [0] * n\n",
    "        dp2 = [0] * n\n",
    "        \n",
    "        # 计算不选第一个的情况下的最大捐款数\n",
    "        dp1[0] = donations[0]\n",
    "        dp1[1] = max(donations[0], donations[1])\n",
    "        for i in range(2, n - 1):\n",
    "            dp1[i] = max(dp1[i - 1], dp1[i - 2] + donations[i])\n",
    "        \n",
    "        # 计算不选最后一个的情况下的最大捐款数\n",
    "        dp2[1] = donations[1]\n",
    "        for i in range(2, n):\n",
    "            dp2[i] = max(dp2[i - 1], dp2[i - 2] + donations[i])\n",
    "        \n",
    "        # 返回两种情况下的最大捐款数中的较大值\n",
    "        return max(dp1[n - 2], dp2[n - 1])\n",
    "\n",
    "# 示例用法\n",
    "donations = [10, 3, 2, 5, 7, 8]\n",
    "solution = Solution()\n",
    "max_donations = solution.maximizeDonations(donations)\n",
    "print(max_donations)  # 输出最大捐款数\n"
   ]
  },
  {
   "cell_type": "code",
   "execution_count": 6,
   "metadata": {},
   "outputs": [
    {
     "name": "stdout",
     "output_type": "stream",
     "text": [
      "True\n",
      "False\n"
     ]
    }
   ],
   "source": [
    "from typing import List\n",
    "\n",
    "class Solution:\n",
    "    def CheckGameResource(self, sequence: List[int]) -> bool:\n",
    "        if not sequence:\n",
    "            return True\n",
    "        \n",
    "        collect_count = 0\n",
    "        consume_count = 0\n",
    "        \n",
    "        for action in sequence:\n",
    "            if action == 1:\n",
    "                collect_count += 1\n",
    "            elif action == 0:\n",
    "                consume_count += 1\n",
    "            \n",
    "            if consume_count > collect_count:\n",
    "                return False\n",
    "        \n",
    "        return collect_count == consume_count\n",
    "\n",
    "# 示例用法\n",
    "sequence1 = [1, 0, 1, 1, 1, 0, 0, 1, 0, 0]\n",
    "sequence2 = [1, 0, 1, 1, 0, 0, 1]\n",
    "\n",
    "solution = Solution()\n",
    "print(solution.CheckGameResource(sequence1))  # 输出 True\n",
    "print(solution.CheckGameResource(sequence2))  # 输出 False\n"
   ]
  },
  {
   "cell_type": "code",
   "execution_count": 16,
   "metadata": {},
   "outputs": [
    {
     "name": "stdout",
     "output_type": "stream",
     "text": [
      "5\n"
     ]
    }
   ],
   "source": [
    "def min_cost_to_buy_candies(n, a, b):\n",
    "    min_cost = 0\n",
    "\n",
    "    for i in range(n):\n",
    "        # 计算需要购买ai个糖果的数量\n",
    "        required_a = max(0, b[i] - a[i])\n",
    "        # 计算需要购买bi个第i种糖果的数量\n",
    "        required_b = max(0, b[i])\n",
    "\n",
    "        # 计算花费\n",
    "        cost = required_a * 2 + required_b\n",
    "        min_cost += cost\n",
    "\n",
    "    return min_cost\n",
    "\n",
    "# 从ACM端读取输入\n",
    "n = int(input())  # 读取糖果种类数\n",
    "a = list(map(int, input().split()))  # 读取需要购买ai个糖果的列表\n",
    "b = list(map(int, input().split()))  # 读取需要购买bi个第i种糖果的列表\n",
    "\n",
    "# 调用函数计算最小花费\n",
    "result = min_cost_to_buy_candies(n, a, b)\n",
    "print(result)\n",
    "\n"
   ]
  },
  {
   "cell_type": "markdown",
   "metadata": {},
   "source": [
    "2023/10/14淘天第2题"
   ]
  },
  {
   "cell_type": "code",
   "execution_count": 14,
   "metadata": {},
   "outputs": [
    {
     "name": "stdout",
     "output_type": "stream",
     "text": [
      "1 2 3\n",
      "4 5 6\n",
      "7 8 9\n"
     ]
    }
   ],
   "source": [
    "def fill_floor(n):\n",
    "    floor = [[0] * n for _ in range(n)]  # 初始化一个n * n的地板，所有格子为0\n",
    "\n",
    "    if n >= 3:\n",
    "        for i in range(3):\n",
    "            for j in range(3):\n",
    "                floor[i][j] = (i * 3) + j + 1\n",
    "\n",
    "    x, y = 0, 0  # 初始填充位置\n",
    "    fill_num = 10  # 初始填充数字\n",
    "\n",
    "    while fill_num <= n * n:\n",
    "        floor[x][y] = fill_num\n",
    "        fill_num += 1\n",
    "\n",
    "        if x + 1 < n and floor[x + 1][y] == 0:  # 向下填充\n",
    "            x += 1\n",
    "        elif y + 1 < n and floor[x][y + 1] == 0:  # 向右填充\n",
    "            y += 1\n",
    "        elif x - 1 >= 0 and floor[x - 1][y] == 0:  # 向上填充\n",
    "            x -= 1\n",
    "        elif y - 1 >= 0 and floor[x][y - 1] == 0:  # 向左填充\n",
    "            y -= 1\n",
    "\n",
    "    return floor\n",
    "\n",
    "def print_floor(n, floor):\n",
    "    for i in range(n):\n",
    "        print(\" \".join(map(str, floor[i])))\n",
    "\n",
    "# 调用函数填充地板\n",
    "n = 3  # 这里可以设置n的值\n",
    "floor = fill_floor(n)\n",
    "# 输出填充方案\n",
    "print_floor(n, floor)\n",
    "\n"
   ]
  },
  {
   "cell_type": "markdown",
   "metadata": {},
   "source": [
    "2023/10/14 淘天第3题"
   ]
  },
  {
   "cell_type": "code",
   "execution_count": 10,
   "metadata": {},
   "outputs": [
    {
     "name": "stdout",
     "output_type": "stream",
     "text": [
      "3\n"
     ]
    }
   ],
   "source": [
    "def sum_coloring_weights(n, m, matrix):\n",
    "    red_count = 0\n",
    "    total_weight = 0\n",
    "\n",
    "    for i in range(n):\n",
    "        for j in range(m):\n",
    "            if matrix[i][j] == 'R':\n",
    "                red_count += 1\n",
    "\n",
    "    for i in range(n):\n",
    "        for j in range(m):\n",
    "            if matrix[i][j] == '?':\n",
    "                # 计算以(i, j)为左上角的2*2子矩阵内的红色格子数量\n",
    "                red_in_submatrix = 0\n",
    "                for x in range(2):\n",
    "                    for y in range(2):\n",
    "                        if i + x < n and j + y < m and matrix[i + x][j + y] == 'R':\n",
    "                            red_in_submatrix += 1\n",
    "\n",
    "                # 添加这个子矩阵的权值到总权值\n",
    "                total_weight += red_in_submatrix\n",
    "\n",
    "    return total_weight\n",
    "\n",
    "# 从ACM端读取输入\n",
    "n, m = map(int, input().split())  # 读取 n 和 m\n",
    "matrix = [list(input()) for _ in range(n)]  # 读取矩阵情况\n",
    "\n",
    "# 调用函数计算权值之和\n",
    "result = sum_coloring_weights(n, m, matrix)\n",
    "print(result)\n"
   ]
  },
  {
   "cell_type": "code",
   "execution_count": null,
   "metadata": {},
   "outputs": [],
   "source": [
    "import pandas as pd\n",
    "import numpy as np\n",
    "\n",
    "# 读取CSV文件\n",
    "data = pd.read_csv('transaction_data.csv')\n",
    "\n",
    "# 1. 将交易日期转换为pandas datetime对象\n",
    "data['TransactionDate'] = pd.to_datetime(data['TransactionDate'])\n",
    "\n",
    "# 2. 对交易金额进行累计求和，计算每个用户的总交易金额\n",
    "user_total_transaction_amount = data.groupby('UserID')['TransactionAmount'].sum()\n",
    "\n",
    "# 3. 计算每个用户在每个商品类别上的交易总金额\n",
    "user_category_total_amount = data.groupby(['UserID', 'ProductCategory'])['TransactionAmount'].sum()\n",
    "\n",
    "# 4. 对于每个用户，找出他们交易金额最高的商品类别\n",
    "user_max_category = user_category_total_amount.groupby('UserID').idxmax()\n",
    "user_max_category = user_max_category.apply(lambda x: x[1])\n",
    "\n",
    "# 5. 找出平均每笔交易金额最高的商品类别\n",
    "average_transaction_amount = data.groupby('ProductCategory')['TransactionAmount'].mean()\n",
    "max_average_category = average_transaction_amount.idxmax()\n",
    "\n",
    "# 6. 计算每个月的总交易金额，以及每个月每个商品类别的总交易金额\n",
    "data['TransactionMonth'] = data['TransactionDate'].dt.to_period('M')\n",
    "monthly_total_transaction_amount = data.groupby('TransactionMonth')['TransactionAmount'].sum()\n",
    "monthly_category_total_amount = data.groupby(['TransactionMonth', 'ProductCategory'])['TransactionAmount'].sum()\n",
    "\n",
    "# 打印结果\n",
    "print(\"每个用户的总交易金额:\\n\", user_total_transaction_amount)\n",
    "print(\"每个用户在每个商品类别上的交易总金额:\\n\", user_category_total_amount)\n",
    "print(\"每个用户交易金额最高的商品类别:\\n\", user_max_category)\n",
    "print(\"平均每笔交易金额最高的商品类别:\", max_average_category)\n",
    "print(\"每个月的总交易金额:\\n\", monthly_total_transaction_amount)\n",
    "print(\"每个月每个商品类别的总交易金额:\\n\", monthly_category_total_amount)\n"
   ]
  },
  {
   "cell_type": "code",
   "execution_count": null,
   "metadata": {},
   "outputs": [],
   "source": [
    "import numpy as np\n",
    "\n",
    "def mine_hard_examples(X, y, y_hat, min_sample_size):\n",
    "    misclassified = (y != (y_hat > 0.5))\n",
    "    absolute_difference = np.abs(y - y_hat)\n",
    "    mask = misclassified & (absolute_difference > 0.5)\n",
    "    sample_size = np.sum(mask)\n",
    "    assert sample_size < len(mask)\n",
    "    if sample_size < min_sample_size:\n",
    "        assert sample_size < len(mask)\n",
    "        if sample_size < min_sample_size:\n",
    "            flip_probs = np.clip(absolute_difference, 0, 0.5)\n",
    "            idx = np.random.choice(np.arange(len(mask)), min_sample_size - sample_size, replace=False, p=flip_probs)\n",
    "            mask[idx] = ~mask[idx]\n",
    "    return X[mask], y[mask]\n",
    "\n",
    "if __name__ == \"__main__\":\n",
    "    np.random.seed(0)\n",
    "    cases = [(0, 0.3, False), (1, 0.7, True), (0, 0.7, True), (1, 0.3, False), (0, 0.7 + np.finfo(float).eps, True), (1, 0.3 - np.finfo(float).eps, True)]\n",
    "    X = np.arange(len(cases))\n",
    "    y = np.array([c[0] for c in cases])\n",
    "    # 调用 mine_hard_examples 函数\n",
    "    X_mined, y_mined = mine_hard_examples(X, y, y, min_sample_size=3)\n",
    "    print(\"Mined X:\", X_mined)\n",
    "    print(\"Mined y:\", y_mined)\n"
   ]
  }
 ],
 "metadata": {
  "kernelspec": {
   "display_name": "base",
   "language": "python",
   "name": "python3"
  },
  "language_info": {
   "codemirror_mode": {
    "name": "ipython",
    "version": 3
   },
   "file_extension": ".py",
   "mimetype": "text/x-python",
   "name": "python",
   "nbconvert_exporter": "python",
   "pygments_lexer": "ipython3",
   "version": "3.8.8"
  },
  "orig_nbformat": 4
 },
 "nbformat": 4,
 "nbformat_minor": 2
}
