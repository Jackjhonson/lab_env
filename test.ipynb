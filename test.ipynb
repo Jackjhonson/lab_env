{
 "cells": [
  {
   "cell_type": "code",
   "execution_count": 5,
   "metadata": {},
   "outputs": [
    {
     "name": "stdout",
     "output_type": "stream",
     "text": [
      "每个项目中员工最少的开发工时总和为: 9\n"
     ]
    }
   ],
   "source": [
    "import heapq\n",
    "\n",
    "def minWorkHours(tasks, n):\n",
    "    # 获取项目数量\n",
    "    num_projects = len(tasks)\n",
    "    \n",
    "    # 将所有任务按工作时长降序排列\n",
    "    all_tasks = []\n",
    "    for project_tasks in tasks:\n",
    "        all_tasks.extend(project_tasks)\n",
    "    all_tasks.sort(reverse=True)\n",
    "    \n",
    "    # 初始化一个最小堆，用于存储员工的工作时长\n",
    "    min_heap = [0] * n\n",
    "    \n",
    "    # 遍历所有任务，将任务分配给员工\n",
    "    for task_hours in all_tasks:\n",
    "        # 找到工作时长最短的员工\n",
    "        min_worker = heapq.heappop(min_heap)\n",
    "        # 分配任务给员工\n",
    "        min_worker += task_hours\n",
    "        # 将员工的工作时长重新加入堆中\n",
    "        heapq.heappush(min_heap, min_worker)\n",
    "    \n",
    "    # 返回员工工作时长最长的值，因为这是总工时最小的项目\n",
    "    return max(min_heap)\n",
    "\n",
    "# 示例用法\n",
    "tasks = [\n",
    "    [3, 2, 4],\n",
    "    [4, 5, 1],\n",
    "    [1, 2, 3]\n",
    "]\n",
    "n = 3\n",
    "\n",
    "result = minWorkHours(tasks, n)\n",
    "print(\"每个项目中员工最少的开发工时总和为:\", result)\n"
   ]
  },
  {
   "cell_type": "code",
   "execution_count": 6,
   "metadata": {},
   "outputs": [
    {
     "name": "stdout",
     "output_type": "stream",
     "text": [
      "每个项目中员工最少的开发工时总和为: 9\n"
     ]
    }
   ],
   "source": [
    "def minWorkHours(tasks, n):\n",
    "    # 获取项目数量\n",
    "    num_projects = len(tasks)\n",
    "    \n",
    "    # 将所有任务按工作时长降序排列\n",
    "    all_tasks = []\n",
    "    for project_tasks in tasks:\n",
    "        all_tasks.extend(project_tasks)\n",
    "    all_tasks.sort(reverse=True)\n",
    "    \n",
    "    # 初始化一个数组，用于存储每位员工的工作时长\n",
    "    worker_hours = [0] * n\n",
    "    \n",
    "    # 贪心算法：将任务分配给工作时长最短的员工\n",
    "    for task_hours in all_tasks:\n",
    "        min_worker_index = worker_hours.index(min(worker_hours))\n",
    "        # 分配任务给工作时长最短的员工\n",
    "        worker_hours[min_worker_index] += task_hours\n",
    "    \n",
    "    # 返回员工工作时长最长的值，因为这是总工时最小的项目\n",
    "    return max(worker_hours)\n",
    "\n",
    "# 示例用法\n",
    "tasks = [\n",
    "    [3, 2, 4],\n",
    "    [4, 5, 1],\n",
    "    [1, 2, 3]\n",
    "]\n",
    "n = 3\n",
    "\n",
    "result = minWorkHours(tasks, n)\n",
    "print(\"每个项目中员工最少的开发工时总和为:\", result)\n"
   ]
  }
 ],
 "metadata": {
  "kernelspec": {
   "display_name": "base",
   "language": "python",
   "name": "python3"
  },
  "language_info": {
   "codemirror_mode": {
    "name": "ipython",
    "version": 3
   },
   "file_extension": ".py",
   "mimetype": "text/x-python",
   "name": "python",
   "nbconvert_exporter": "python",
   "pygments_lexer": "ipython3",
   "version": "3.8.8"
  },
  "orig_nbformat": 4
 },
 "nbformat": 4,
 "nbformat_minor": 2
}
