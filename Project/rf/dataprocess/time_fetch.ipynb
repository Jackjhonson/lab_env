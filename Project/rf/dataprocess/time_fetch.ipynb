{
 "cells": [
  {
   "cell_type": "code",
   "execution_count": 1,
   "metadata": {},
   "outputs": [],
   "source": [
    "import numpy as np\n",
    "from numpy import array\n",
    "import pandas as pd\n",
    "from pandas import DataFrame"
   ]
  },
  {
   "cell_type": "code",
   "execution_count": 2,
   "metadata": {},
   "outputs": [
    {
     "name": "stdout",
     "output_type": "stream",
     "text": [
      "<class 'pandas.core.frame.DataFrame'>\n"
     ]
    },
    {
     "data": {
      "text/plain": [
       "Index(['TM', 'TM.1', 'TM.2', 'Unnamed: 3', 'TM.3', 'IDTM', 'TM.4', 'TM.5',\n",
       "       'TM.6', 'TM.7', 'Unnamed: 10', 'STCD', 'TM.8', 'Unnamed: 13', 'STCD.1',\n",
       "       'TM.9', 'Unnamed: 16', 'STCD.2', 'TM.10'],\n",
       "      dtype='object')"
      ]
     },
     "execution_count": 2,
     "metadata": {},
     "output_type": "execute_result"
    }
   ],
   "source": [
    "time = pd.read_excel('timemerge.xlsx',skiprows=1)\n",
    "print(type(time))\n",
    "time.columns"
   ]
  },
  {
   "cell_type": "markdown",
   "metadata": {},
   "source": [
    "### 获取雨量"
   ]
  },
  {
   "cell_type": "code",
   "execution_count": 203,
   "metadata": {},
   "outputs": [
    {
     "name": "stdout",
     "output_type": "stream",
     "text": [
      "Index(['STCD', 'TM.8'], dtype='object')\n"
     ]
    }
   ],
   "source": [
    "# id_1 = time.iloc[:,10:12]\n",
    "# print(id_1.columns)\n",
    "# id_1 = id_1.rename(columns={'STCD':'STCD','TM.8':'TM'})\n",
    "# id_2 = time.iloc[:,13:15]\n",
    "# # id_3 = time.iloc[:,16]\n",
    "# id_2 = id_2.dropna()\n",
    "# id_2 = id_2.rename(columns={'STCD.1':'STCD','TM.9':'TM'})\n",
    "# rainfall = pd.concat([id_1,id_2], axis=0)\n",
    "# # set1 = set(id_1)\n",
    "# # set2 = set(id_2)\n",
    "# # set3 = set(id_3)"
   ]
  },
  {
   "cell_type": "code",
   "execution_count": 34,
   "metadata": {},
   "outputs": [
    {
     "data": {
      "text/html": [
       "<div>\n",
       "<style scoped>\n",
       "    .dataframe tbody tr th:only-of-type {\n",
       "        vertical-align: middle;\n",
       "    }\n",
       "\n",
       "    .dataframe tbody tr th {\n",
       "        vertical-align: top;\n",
       "    }\n",
       "\n",
       "    .dataframe thead th {\n",
       "        text-align: right;\n",
       "    }\n",
       "</style>\n",
       "<table border=\"1\" class=\"dataframe\">\n",
       "  <thead>\n",
       "    <tr style=\"text-align: right;\">\n",
       "      <th></th>\n",
       "      <th>STCD</th>\n",
       "      <th>TM</th>\n",
       "    </tr>\n",
       "  </thead>\n",
       "  <tbody>\n",
       "    <tr>\n",
       "      <th>0</th>\n",
       "      <td>63403200</td>\n",
       "      <td>2012-01-01 08:00:00</td>\n",
       "    </tr>\n",
       "    <tr>\n",
       "      <th>1</th>\n",
       "      <td>63403200</td>\n",
       "      <td>2012-01-02 08:00:00</td>\n",
       "    </tr>\n",
       "    <tr>\n",
       "      <th>2</th>\n",
       "      <td>63403200</td>\n",
       "      <td>2012-01-03 08:00:00</td>\n",
       "    </tr>\n",
       "    <tr>\n",
       "      <th>3</th>\n",
       "      <td>63403200</td>\n",
       "      <td>2012-01-04 08:00:00</td>\n",
       "    </tr>\n",
       "    <tr>\n",
       "      <th>4</th>\n",
       "      <td>63403200</td>\n",
       "      <td>2012-01-05 08:00:00</td>\n",
       "    </tr>\n",
       "    <tr>\n",
       "      <th>...</th>\n",
       "      <td>...</td>\n",
       "      <td>...</td>\n",
       "    </tr>\n",
       "    <tr>\n",
       "      <th>875207</th>\n",
       "      <td>63404900</td>\n",
       "      <td>2022-09-28 15:00:00</td>\n",
       "    </tr>\n",
       "    <tr>\n",
       "      <th>875208</th>\n",
       "      <td>63204600</td>\n",
       "      <td>2022-09-28 15:00:00</td>\n",
       "    </tr>\n",
       "    <tr>\n",
       "      <th>875209</th>\n",
       "      <td>63204401</td>\n",
       "      <td>2022-09-28 15:00:00</td>\n",
       "    </tr>\n",
       "    <tr>\n",
       "      <th>875210</th>\n",
       "      <td>63204800</td>\n",
       "      <td>2022-09-28 15:00:00</td>\n",
       "    </tr>\n",
       "    <tr>\n",
       "      <th>875211</th>\n",
       "      <td>63204650</td>\n",
       "      <td>2022-09-28 15:00:00</td>\n",
       "    </tr>\n",
       "  </tbody>\n",
       "</table>\n",
       "<p>875212 rows × 2 columns</p>\n",
       "</div>"
      ],
      "text/plain": [
       "            STCD                  TM\n",
       "0       63403200 2012-01-01 08:00:00\n",
       "1       63403200 2012-01-02 08:00:00\n",
       "2       63403200 2012-01-03 08:00:00\n",
       "3       63403200 2012-01-04 08:00:00\n",
       "4       63403200 2012-01-05 08:00:00\n",
       "...          ...                 ...\n",
       "875207  63404900 2022-09-28 15:00:00\n",
       "875208  63204600 2022-09-28 15:00:00\n",
       "875209  63204401 2022-09-28 15:00:00\n",
       "875210  63204800 2022-09-28 15:00:00\n",
       "875211  63204650 2022-09-28 15:00:00\n",
       "\n",
       "[875212 rows x 2 columns]"
      ]
     },
     "execution_count": 34,
     "metadata": {},
     "output_type": "execute_result"
    }
   ],
   "source": [
    "# id = time.iloc[:,17:19]\n",
    "# id = id.dropna()\n",
    "# id = id.rename(columns={'STCD.2':'STCD','TM.10':'TM'})\n",
    "# id"
   ]
  },
  {
   "cell_type": "code",
   "execution_count": 105,
   "metadata": {},
   "outputs": [],
   "source": [
    "# setall = set.union(set1,set2,set3)\n",
    "# print(len(set1))\n",
    "# print(len(set2))\n",
    "# print(len(set3))\n",
    "# print(len(setall))#29"
   ]
  },
  {
   "cell_type": "markdown",
   "metadata": {},
   "source": [
    "### 检查空值"
   ]
  },
  {
   "cell_type": "code",
   "execution_count": 35,
   "metadata": {},
   "outputs": [
    {
     "name": "stdout",
     "output_type": "stream",
     "text": [
      "(875212, 2)\n",
      "Index(['STCD', 'TM'], dtype='object')\n"
     ]
    }
   ],
   "source": [
    "# rainfall.isnull().any()\n",
    "# print(rainfall.shape)\n",
    "# print(rainfall.columns)\n",
    "id.isnull().any()\n",
    "print(id.shape)\n",
    "print(id.columns)"
   ]
  },
  {
   "cell_type": "code",
   "execution_count": 36,
   "metadata": {},
   "outputs": [],
   "source": [
    "# rainfall = rainfall.groupby('STCD')\n",
    "rainfall = id.groupby('STCD')"
   ]
  },
  {
   "cell_type": "code",
   "execution_count": 41,
   "metadata": {},
   "outputs": [
    {
     "name": "stdout",
     "output_type": "stream",
     "text": [
      "[63203000, 63204401, 63204450, 63204600, 63204650, 63204800, 63204850, 63205350, 63403200, 63403500, 63403600, 63404900]\n",
      "27       2012-01-08 14:00:00\n",
      "33       2012-01-09 08:00:00\n",
      "65       2012-01-14 02:00:00\n",
      "72       2012-01-14 03:00:00\n",
      "81       2012-01-14 04:00:00\n",
      "                 ...        \n",
      "875160   2022-09-28 11:00:00\n",
      "875164   2022-09-28 12:00:00\n",
      "875177   2022-09-28 13:00:00\n",
      "875199   2022-09-28 14:00:00\n",
      "875209   2022-09-28 15:00:00\n",
      "Name: TM, Length: 79015, dtype: datetime64[ns]\n"
     ]
    }
   ],
   "source": [
    "id_list = []\n",
    "time_list = []\n",
    "for i,j in rainfall:\n",
    "    # print(i,j)\n",
    "    id_list.append(i)\n",
    "    time_list.append(j.iloc[:,1])\n",
    "print(id_list)\n",
    "print(time_list[1])"
   ]
  },
  {
   "cell_type": "code",
   "execution_count": 44,
   "metadata": {},
   "outputs": [],
   "source": [
    "# [63203000, 63204401, 63204450, 63204600, 63204650, 63204800, 63204850, 63205350, 63403200, 63403500, 63403600, 63404900]\n",
    "# time_list_1= time_list[0].rename('63001000')\n",
    "time_list_1= time_list[0].rename('63203000')\n",
    "time_list_2= time_list[1].rename('63204401')\n",
    "time_list_3= time_list[2].rename('63204450')\n",
    "time_list_4= time_list[3].rename('63204600')\n",
    "time_list_5= time_list[4].rename('63204650')\n",
    "time_list_6= time_list[5].rename('63204800')\n",
    "# time_list_8= time_list[7].rename('63305200')\n",
    "time_list_7= time_list[6].rename('63204850')\n",
    "time_list_8= time_list[7].rename('63205350')\n",
    "\n",
    "# time_list_10= time_list[9].rename('63300800')\n",
    "# time_list_11= time_list[10].rename('63301150')\n",
    "# time_list_12= time_list[11].rename('63301600')\n",
    "# time_list_13= time_list[12].rename('63303400')\n",
    "# time_list_14= time_list[13].rename('63303600')\n",
    "# time_list_15= time_list[14].rename('63304400')\n",
    "# time_list_16= time_list[15].rename('63304800')\n",
    "# time_list_17= time_list[16].rename('63305200')\n",
    "# time_list_18= time_list[17].rename('63305800')\n",
    "# time_list_19= time_list[18].rename('63307200')\n",
    "# time_list_20= time_list[19].rename('63307800')\n",
    "# time_list_21= time_list[20].rename('63309200')\n",
    "# time_list_22= time_list[21].rename('63309600')\n",
    "# time_list_23= time_list[22].rename('63310400')\n",
    "# time_list_24= time_list[23].rename('63310600')\n",
    "# time_list_25= time_list[24].rename('63320600')\n",
    "\n",
    "# time_list_26= time_list[25].rename('63403200')\n",
    "# time_list_27= time_list[26].rename('63403500')\n",
    "# time_list_28= time_list[27].rename('63403600')\n",
    "# time_list_29= time_list[28].rename('63404900')\n",
    "\n",
    "time_list_9= time_list[8].rename('63403200')\n",
    "time_list_10= time_list[9].rename('63403500')\n",
    "time_list_11= time_list[10].rename('63403600')\n",
    "time_list_12= time_list[11].rename('63404900')"
   ]
  },
  {
   "cell_type": "code",
   "execution_count": 208,
   "metadata": {},
   "outputs": [],
   "source": [
    "# rainfall = [time_list_1,time_list_2,time_list_3,time_list_4,time_list_5,time_list_6,time_list_7,time_list_8,time_list_9,\n",
    "#             time_list_10,time_list_11,time_list_12,time_list_13,time_list_14,time_list_15,time_list_16,time_list_17,time_list_18,\n",
    "#             time_list_19,time_list_20,time_list_21,time_list_22,time_list_23,time_list_24,time_list_25,time_list_26,time_list_27,time_list_28,time_list_29]"
   ]
  },
  {
   "cell_type": "code",
   "execution_count": 45,
   "metadata": {},
   "outputs": [],
   "source": [
    "rainfall = [time_list_1,time_list_2,time_list_3,time_list_4,time_list_5,time_list_6,time_list_7,time_list_8,time_list_9,\n",
    "            time_list_10,time_list_11,time_list_12]"
   ]
  },
  {
   "cell_type": "code",
   "execution_count": 46,
   "metadata": {},
   "outputs": [
    {
     "data": {
      "text/plain": [
       "78899"
      ]
     },
     "execution_count": 46,
     "metadata": {},
     "output_type": "execute_result"
    }
   ],
   "source": [
    "len(time_list_2)\n",
    "len(time_list_4)"
   ]
  },
  {
   "cell_type": "code",
   "execution_count": 47,
   "metadata": {},
   "outputs": [
    {
     "name": "stdout",
     "output_type": "stream",
     "text": [
      "<bound method NDFrame.head of 0       2012-01-01 00:00:00\n",
      "1       2012-01-01 01:00:00\n",
      "2       2012-01-01 02:00:00\n",
      "3       2012-01-01 03:00:00\n",
      "4       2012-01-01 04:00:00\n",
      "                ...        \n",
      "94164   2022-09-28 12:00:00\n",
      "94165   2022-09-28 13:00:00\n",
      "94166   2022-09-28 14:00:00\n",
      "94167   2022-09-28 15:00:00\n",
      "94168   2022-09-28 16:00:00\n",
      "Length: 94169, dtype: datetime64[ns]>\n",
      "16058\n",
      "15154\n",
      "15444\n",
      "15270\n",
      "15397\n",
      "16509\n",
      "15077\n",
      "15844\n",
      "35378\n",
      "15361\n",
      "48021\n",
      "31303\n"
     ]
    }
   ],
   "source": [
    "full = pd.Series(pd.date_range(start='2012-01-01 00:00:00', end='2022-09-28 16:00:00', freq='H'))\n",
    "print(full.head)\n",
    "full = full.tolist()\n",
    "# full[0]\n",
    "# set1 = set(pingwanglevel)\n",
    "set2 = set(full)\n",
    "rainfall_missing = []\n",
    "\n",
    "for station in rainfall:\n",
    "    set1 = set(station)\n",
    "    # print(len(set2)-len(set1))\n",
    "    tem_missing = sorted(set1^set2)\n",
    "    tem_missing = pd.Series(tem_missing)\n",
    "    rainfall_missing.append(tem_missing)\n",
    "    print(len(tem_missing))\n",
    "\n",
    "\n"
   ]
  },
  {
   "cell_type": "code",
   "execution_count": 256,
   "metadata": {},
   "outputs": [],
   "source": [
    "# rainfall_missing_df = pd.concat([rainfall_missing[0],rainfall_missing[1],rainfall_missing[2],rainfall_missing[3],\n",
    "#                                 rainfall_missing[4],rainfall_missing[5],rainfall_missing[6],rainfall_missing[7],rainfall_missing[8],\n",
    "#                                 rainfall_missing[9],rainfall_missing[10],rainfall_missing[11],rainfall_missing[12],rainfall_missing[13],\n",
    "#                                 rainfall_missing[14],rainfall_missing[15],rainfall_missing[16],rainfall_missing[17],rainfall_missing[18],\n",
    "#                                 rainfall_missing[19],rainfall_missing[20],rainfall_missing[21],rainfall_missing[22],rainfall_missing[23],\n",
    "#                                 rainfall_missing[24],rainfall_missing[25],rainfall_missing[26],rainfall_missing[27],rainfall_missing[28]],join='outer',axis=1)"
   ]
  },
  {
   "cell_type": "code",
   "execution_count": 48,
   "metadata": {},
   "outputs": [],
   "source": [
    "rainfall_missing_df = pd.concat([rainfall_missing[0],rainfall_missing[1],rainfall_missing[2],rainfall_missing[3],\n",
    "                                rainfall_missing[4],rainfall_missing[5],rainfall_missing[6],rainfall_missing[7],rainfall_missing[8],\n",
    "                                rainfall_missing[9],rainfall_missing[10],rainfall_missing[11]],join='outer',axis=1)"
   ]
  },
  {
   "cell_type": "code",
   "execution_count": 49,
   "metadata": {},
   "outputs": [
    {
     "data": {
      "text/plain": [
       "(48021, 12)"
      ]
     },
     "execution_count": 49,
     "metadata": {},
     "output_type": "execute_result"
    }
   ],
   "source": [
    "rainfall_missing_df.shape"
   ]
  },
  {
   "cell_type": "code",
   "execution_count": 268,
   "metadata": {},
   "outputs": [],
   "source": [
    "rainfall_missing_df = pd.DataFrame(rainfall_missing_df)\n",
    "rainfall_missing_df.to_csv('rainfall_missing1.csv')"
   ]
  },
  {
   "cell_type": "markdown",
   "metadata": {},
   "source": [
    "### 获取其他站点"
   ]
  },
  {
   "cell_type": "markdown",
   "metadata": {},
   "source": [
    "### 检查空值"
   ]
  },
  {
   "cell_type": "markdown",
   "metadata": {},
   "source": [
    "#### 平望"
   ]
  },
  {
   "cell_type": "code",
   "execution_count": 152,
   "metadata": {},
   "outputs": [
    {
     "name": "stdout",
     "output_type": "stream",
     "text": [
      "False\n",
      "93978\n",
      "2012-01-01 00:00:00\n"
     ]
    }
   ],
   "source": [
    "pingwanglevel = time.iloc[:,0]\n",
    "pingwanglevel = pingwanglevel.dropna(how='any', axis=0)\n",
    "print(pingwanglevel.isnull().any())\n",
    "# print(pingwanglevel.head)\n",
    "pingwanglevel = pingwanglevel.tolist()\n",
    "print(len(pingwanglevel))\n",
    "print(pingwanglevel[0])"
   ]
  },
  {
   "cell_type": "code",
   "execution_count": 153,
   "metadata": {},
   "outputs": [
    {
     "name": "stdout",
     "output_type": "stream",
     "text": [
      "False\n",
      "87263\n"
     ]
    }
   ],
   "source": [
    "gongcheng = time.iloc[:,1]\n",
    "gongcheng = gongcheng.dropna(how='any', axis=0)\n",
    "print(gongcheng.isnull().any())\n",
    "gongcheng = gongcheng.tolist()\n",
    "print(len(gongcheng))"
   ]
  },
  {
   "cell_type": "code",
   "execution_count": 154,
   "metadata": {},
   "outputs": [
    {
     "name": "stdout",
     "output_type": "stream",
     "text": [
      "False\n"
     ]
    }
   ],
   "source": [
    "pingwangtide = time.iloc[:,2]\n",
    "pingwangtide = pingwangtide.dropna(how='any', axis=0)\n",
    "print(pingwangtide.isnull().any())"
   ]
  },
  {
   "cell_type": "markdown",
   "metadata": {},
   "source": [
    "#### 苏州"
   ]
  },
  {
   "cell_type": "code",
   "execution_count": 3,
   "metadata": {},
   "outputs": [
    {
     "name": "stdout",
     "output_type": "stream",
     "text": [
      "False\n"
     ]
    }
   ],
   "source": [
    "suzhoulevel = time.iloc[:,4]\n",
    "suzhoulevel = suzhoulevel.dropna(how='any', axis=0)\n",
    "print(suzhoulevel.isnull().any())"
   ]
  },
  {
   "cell_type": "code",
   "execution_count": 18,
   "metadata": {},
   "outputs": [
    {
     "name": "stdout",
     "output_type": "stream",
     "text": [
      "False\n",
      "0      2012-01-01 08:00:00\n",
      "1      2012-01-02 08:00:00\n",
      "2      2012-01-03 08:00:00\n",
      "3      2012-01-04 08:00:00\n",
      "4      2012-01-05 08:00:00\n",
      "               ...        \n",
      "3045   2022-09-24 08:00:00\n",
      "3046   2022-09-25 08:00:00\n",
      "3047   2022-09-26 08:00:00\n",
      "3048   2022-09-27 08:00:00\n",
      "3049   2022-09-28 08:00:00\n",
      "Name: IDTM, Length: 3050, dtype: datetime64[ns]\n"
     ]
    }
   ],
   "source": [
    "zha1 = time.iloc[:,5]\n",
    "zha1 = zha1.dropna(how='any', axis=0)\n",
    "print(zha1.isnull().any())\n",
    "print(zha1)"
   ]
  },
  {
   "cell_type": "code",
   "execution_count": 157,
   "metadata": {},
   "outputs": [
    {
     "name": "stdout",
     "output_type": "stream",
     "text": [
      "False\n"
     ]
    }
   ],
   "source": [
    "zha2 = time.iloc[:,6]\n",
    "zha2 = zha2.dropna(how='any', axis=0)\n",
    "print(zha2.isnull().any())"
   ]
  },
  {
   "cell_type": "code",
   "execution_count": 158,
   "metadata": {},
   "outputs": [
    {
     "name": "stdout",
     "output_type": "stream",
     "text": [
      "False\n"
     ]
    }
   ],
   "source": [
    "zha3 = time.iloc[:,7]\n",
    "zha3 = zha3.dropna(how='any', axis=0)\n",
    "print(zha3.isnull().any())"
   ]
  },
  {
   "cell_type": "code",
   "execution_count": 159,
   "metadata": {},
   "outputs": [
    {
     "name": "stdout",
     "output_type": "stream",
     "text": [
      "False\n"
     ]
    }
   ],
   "source": [
    "zha4 = time.iloc[:,8]\n",
    "zha4 = zha4.dropna(how='any', axis=0)\n",
    "print(zha4.isnull().any())"
   ]
  },
  {
   "cell_type": "code",
   "execution_count": null,
   "metadata": {},
   "outputs": [],
   "source": [
    "zha5 = time.iloc[:,9]\n",
    "zha5 = zha4.dropna(how='any', axis=0)\n",
    "print(zha4.isnull().any())"
   ]
  },
  {
   "cell_type": "code",
   "execution_count": 160,
   "metadata": {},
   "outputs": [
    {
     "data": {
      "text/plain": [
       "pandas.core.series.Series"
      ]
     },
     "execution_count": 160,
     "metadata": {},
     "output_type": "execute_result"
    }
   ],
   "source": [
    "type(pingwangtide)"
   ]
  },
  {
   "cell_type": "markdown",
   "metadata": {},
   "source": [
    "### 生成时间戳"
   ]
  },
  {
   "cell_type": "code",
   "execution_count": 19,
   "metadata": {},
   "outputs": [
    {
     "name": "stdout",
     "output_type": "stream",
     "text": [
      "<bound method NDFrame.head of 0       2012-01-01 00:00:00\n",
      "1       2012-01-01 01:00:00\n",
      "2       2012-01-01 02:00:00\n",
      "3       2012-01-01 03:00:00\n",
      "4       2012-01-01 04:00:00\n",
      "                ...        \n",
      "94164   2022-09-28 12:00:00\n",
      "94165   2022-09-28 13:00:00\n",
      "94166   2022-09-28 14:00:00\n",
      "94167   2022-09-28 15:00:00\n",
      "94168   2022-09-28 16:00:00\n",
      "Length: 94169, dtype: datetime64[ns]>\n"
     ]
    },
    {
     "data": {
      "text/plain": [
       "Timestamp('2012-01-01 00:00:00')"
      ]
     },
     "execution_count": 19,
     "metadata": {},
     "output_type": "execute_result"
    }
   ],
   "source": [
    "full = pd.Series(pd.date_range(start='2012-01-01 00:00:00', end='2022-09-28 16:00:00', freq='H'))\n",
    "print(full.head)\n",
    "full = full.tolist()\n",
    "full[0]"
   ]
  },
  {
   "cell_type": "markdown",
   "metadata": {},
   "source": [
    "### 比对"
   ]
  },
  {
   "cell_type": "code",
   "execution_count": 163,
   "metadata": {},
   "outputs": [
    {
     "name": "stdout",
     "output_type": "stream",
     "text": [
      "191\n"
     ]
    }
   ],
   "source": [
    "set1 = set(pingwanglevel)\n",
    "set2 = set(full)\n",
    "print(len(set2)-len(set1))\n",
    "pingwanglevel_missing = sorted(set1^set2)\n",
    "pd.DataFrame(pingwanglevel_missing).to_csv('pingwanglevel.csv')\n"
   ]
  },
  {
   "cell_type": "code",
   "execution_count": 164,
   "metadata": {},
   "outputs": [
    {
     "name": "stdout",
     "output_type": "stream",
     "text": [
      "6906\n"
     ]
    }
   ],
   "source": [
    "set3 = set(gongcheng)\n",
    "print(len(set2)-len(set3))\n",
    "gongcheng_missing = sorted(set3^set2)\n",
    "pd.DataFrame(gongcheng_missing).to_csv('gongcheng_missing.csv')"
   ]
  },
  {
   "cell_type": "code",
   "execution_count": 165,
   "metadata": {},
   "outputs": [
    {
     "name": "stdout",
     "output_type": "stream",
     "text": [
      "360\n"
     ]
    }
   ],
   "source": [
    "set4 = set(pingwangtide)\n",
    "print(len(set2)-len(set4))\n",
    "pingwangtide_missing = sorted(set4^set2)\n",
    "pd.DataFrame(pingwangtide_missing).to_csv('pingwangtide_missing.csv')"
   ]
  },
  {
   "cell_type": "code",
   "execution_count": 166,
   "metadata": {},
   "outputs": [
    {
     "name": "stdout",
     "output_type": "stream",
     "text": [
      "1364\n"
     ]
    }
   ],
   "source": [
    "set5 = set(suzhoulevel)\n",
    "print(len(set2)-len(set5))\n",
    "suzhoulevel_missing = sorted(set5^set2)\n",
    "pd.DataFrame(suzhoulevel_missing).to_csv('suzhoulevel_missing.csv')"
   ]
  },
  {
   "cell_type": "code",
   "execution_count": 20,
   "metadata": {},
   "outputs": [
    {
     "name": "stdout",
     "output_type": "stream",
     "text": [
      "91119\n"
     ]
    }
   ],
   "source": [
    "set6 = set(zha1)\n",
    "set2 = set(full)\n",
    "print(len(set2)-len(set6))\n",
    "zha1_missing = sorted(set6^set2)\n",
    "pd.DataFrame(zha1_missing).to_csv('zha1_missing.csv')"
   ]
  },
  {
   "cell_type": "code",
   "execution_count": 168,
   "metadata": {},
   "outputs": [
    {
     "name": "stdout",
     "output_type": "stream",
     "text": [
      "92331\n"
     ]
    }
   ],
   "source": [
    "set7 = set(zha2)\n",
    "print(len(set2)-len(set7))\n",
    "zha2_missing = sorted(set7^set2)\n",
    "pd.DataFrame(zha2_missing).to_csv('zha2_missing.csv')"
   ]
  },
  {
   "cell_type": "code",
   "execution_count": 169,
   "metadata": {},
   "outputs": [
    {
     "name": "stdout",
     "output_type": "stream",
     "text": [
      "92189\n"
     ]
    }
   ],
   "source": [
    "set8 = set(zha3)\n",
    "print(len(set2)-len(set8))\n",
    "zha3_missing = sorted(set8^set2)\n",
    "pd.DataFrame(zha3_missing).to_csv('zha3_missing.csv')"
   ]
  },
  {
   "cell_type": "code",
   "execution_count": 170,
   "metadata": {},
   "outputs": [
    {
     "name": "stdout",
     "output_type": "stream",
     "text": [
      "92051\n"
     ]
    }
   ],
   "source": [
    "set9 = set(zha4)\n",
    "print(len(set2)-len(set9))\n",
    "zha4_missing = sorted(set9^set2)\n",
    "pd.DataFrame(zha4_missing).to_csv('zha4_missing.csv')"
   ]
  },
  {
   "cell_type": "code",
   "execution_count": 6,
   "metadata": {},
   "outputs": [
    {
     "name": "stdout",
     "output_type": "stream",
     "text": [
      "0       2012-01-01 00:00:00\n",
      "1       2012-01-01 01:00:00\n",
      "2       2012-01-01 02:00:00\n",
      "3       2012-01-01 03:00:00\n",
      "4       2012-01-01 04:00:00\n",
      "                ...        \n",
      "93981   2022-09-28 12:00:00\n",
      "93982   2022-09-28 13:00:00\n",
      "93983   2022-09-28 14:00:00\n",
      "93984   2022-09-28 15:00:00\n",
      "93985   2022-09-28 16:00:00\n",
      "Name: TM, Length: 93986, dtype: datetime64[ns]\n"
     ]
    }
   ],
   "source": [
    "print(shuiwei['TM'])"
   ]
  }
 ],
 "metadata": {
  "kernelspec": {
   "display_name": "torch",
   "language": "python",
   "name": "python3"
  },
  "language_info": {
   "codemirror_mode": {
    "name": "ipython",
    "version": 3
   },
   "file_extension": ".py",
   "mimetype": "text/x-python",
   "name": "python",
   "nbconvert_exporter": "python",
   "pygments_lexer": "ipython3",
   "version": "3.9.7 (default, Sep 16 2021, 13:09:58) \n[GCC 7.5.0]"
  },
  "orig_nbformat": 4,
  "vscode": {
   "interpreter": {
    "hash": "bae1e7d7ae0aa30632170e98703ac5ed5ff08457fc1e49a29106eaa03a22a111"
   }
  }
 },
 "nbformat": 4,
 "nbformat_minor": 2
}
