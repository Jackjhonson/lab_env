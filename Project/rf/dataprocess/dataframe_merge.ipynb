{
 "cells": [
  {
   "cell_type": "code",
   "execution_count": 3,
   "metadata": {},
   "outputs": [],
   "source": [
    "import numpy as np\n",
    "from numpy import array\n",
    "import pandas as pd\n",
    "from pandas import DataFrame"
   ]
  },
  {
   "cell_type": "code",
   "execution_count": 4,
   "metadata": {},
   "outputs": [
    {
     "name": "stdout",
     "output_type": "stream",
     "text": [
      "(94117, 34)\n"
     ]
    },
    {
     "name": "stderr",
     "output_type": "stream",
     "text": [
      "/tmp/ipykernel_5174/1057552205.py:1: FutureWarning: Inferring datetime64[ns] from data containing strings is deprecated and will be removed in a future version. To retain the old behavior explicitly pass Series(data, dtype=datetime64[ns])\n",
      "  flow = pd.read_excel('/home/lzy/lab_env/Project/平望日频时频/原始/平望时频文件.xlsx')\n"
     ]
    },
    {
     "data": {
      "text/plain": [
       "Index(['TM', 'Z', 'Q', 'DRP(63001000)', 'DRP(63203000)', 'DRP(63204401)',\n",
       "       'DRP(63204450)', 'DRP(63204600)', 'DRP(63204650)', 'DRP(63204800)',\n",
       "       'DRP(63204850)', 'DRP(63205350)', 'DRP(63300800)', 'DRP(63301150)',\n",
       "       'DRP(63301600)', 'DRP(63303400)', 'DRP(63303600)', 'DRP(63304400)',\n",
       "       'DRP(63304800)', 'DRP(63305200)', 'DRP(63305800)', 'DRP(63307200)',\n",
       "       'DRP(63307800)', 'DRP(63309200)', 'DRP(63309600)', 'DRP(63310400)',\n",
       "       'DRP(63310600)', 'DRP(63320600)', 'DRP(63403200)', 'DRP(63403500)',\n",
       "       'DRP(63403600)', 'DRP(63404900)', 'TGTQ', 'TDZ'],\n",
       "      dtype='object')"
      ]
     },
     "execution_count": 4,
     "metadata": {},
     "output_type": "execute_result"
    }
   ],
   "source": [
    "flow = pd.read_excel('/home/lzy/lab_env/Project/平望日频时频/原始/平望时频文件.xlsx')\n",
    "print(flow.shape)\n",
    "flow.columns"
   ]
  },
  {
   "cell_type": "code",
   "execution_count": 5,
   "metadata": {},
   "outputs": [],
   "source": [
    "# flow = flow.rename(columns={'TM.3':'TM',})"
   ]
  },
  {
   "cell_type": "code",
   "execution_count": 6,
   "metadata": {},
   "outputs": [
    {
     "data": {
      "text/plain": [
       "0       2012-01-01 00:00:00\n",
       "1       2012-01-01 01:00:00\n",
       "2       2012-01-01 02:00:00\n",
       "3       2012-01-01 03:00:00\n",
       "4       2012-01-01 04:00:00\n",
       "                ...        \n",
       "94112   2022-09-28 12:00:00\n",
       "94113   2022-09-28 13:00:00\n",
       "94114   2022-09-28 14:00:00\n",
       "94115   2022-09-28 15:00:00\n",
       "94116   2022-09-28 16:00:00\n",
       "Name: TM, Length: 94117, dtype: datetime64[ns]"
      ]
     },
     "execution_count": 6,
     "metadata": {},
     "output_type": "execute_result"
    }
   ],
   "source": [
    "flow.iloc[:,0]"
   ]
  },
  {
   "cell_type": "code",
   "execution_count": 7,
   "metadata": {},
   "outputs": [
    {
     "data": {
      "text/html": [
       "<div>\n",
       "<style scoped>\n",
       "    .dataframe tbody tr th:only-of-type {\n",
       "        vertical-align: middle;\n",
       "    }\n",
       "\n",
       "    .dataframe tbody tr th {\n",
       "        vertical-align: top;\n",
       "    }\n",
       "\n",
       "    .dataframe thead th {\n",
       "        text-align: right;\n",
       "    }\n",
       "</style>\n",
       "<table border=\"1\" class=\"dataframe\">\n",
       "  <thead>\n",
       "    <tr style=\"text-align: right;\">\n",
       "      <th></th>\n",
       "      <th>TM</th>\n",
       "    </tr>\n",
       "  </thead>\n",
       "  <tbody>\n",
       "    <tr>\n",
       "      <th>0</th>\n",
       "      <td>2012-01-01 00:00:00</td>\n",
       "    </tr>\n",
       "    <tr>\n",
       "      <th>1</th>\n",
       "      <td>2012-01-01 01:00:00</td>\n",
       "    </tr>\n",
       "    <tr>\n",
       "      <th>2</th>\n",
       "      <td>2012-01-01 02:00:00</td>\n",
       "    </tr>\n",
       "    <tr>\n",
       "      <th>3</th>\n",
       "      <td>2012-01-01 03:00:00</td>\n",
       "    </tr>\n",
       "    <tr>\n",
       "      <th>4</th>\n",
       "      <td>2012-01-01 04:00:00</td>\n",
       "    </tr>\n",
       "    <tr>\n",
       "      <th>...</th>\n",
       "      <td>...</td>\n",
       "    </tr>\n",
       "    <tr>\n",
       "      <th>94164</th>\n",
       "      <td>2022-09-28 12:00:00</td>\n",
       "    </tr>\n",
       "    <tr>\n",
       "      <th>94165</th>\n",
       "      <td>2022-09-28 13:00:00</td>\n",
       "    </tr>\n",
       "    <tr>\n",
       "      <th>94166</th>\n",
       "      <td>2022-09-28 14:00:00</td>\n",
       "    </tr>\n",
       "    <tr>\n",
       "      <th>94167</th>\n",
       "      <td>2022-09-28 15:00:00</td>\n",
       "    </tr>\n",
       "    <tr>\n",
       "      <th>94168</th>\n",
       "      <td>2022-09-28 16:00:00</td>\n",
       "    </tr>\n",
       "  </tbody>\n",
       "</table>\n",
       "<p>94169 rows × 1 columns</p>\n",
       "</div>"
      ],
      "text/plain": [
       "                       TM\n",
       "0     2012-01-01 00:00:00\n",
       "1     2012-01-01 01:00:00\n",
       "2     2012-01-01 02:00:00\n",
       "3     2012-01-01 03:00:00\n",
       "4     2012-01-01 04:00:00\n",
       "...                   ...\n",
       "94164 2022-09-28 12:00:00\n",
       "94165 2022-09-28 13:00:00\n",
       "94166 2022-09-28 14:00:00\n",
       "94167 2022-09-28 15:00:00\n",
       "94168 2022-09-28 16:00:00\n",
       "\n",
       "[94169 rows x 1 columns]"
      ]
     },
     "execution_count": 7,
     "metadata": {},
     "output_type": "execute_result"
    }
   ],
   "source": [
    "start = flow.iloc[:,0].iloc[0]\n",
    "end = '2022-09-28 16:00:00'\n",
    "t_index = pd.date_range(start=start, end=end, freq='H')\n",
    "full_time = pd.DataFrame(t_index, columns=['TM'])\n",
    "full_time"
   ]
  },
  {
   "cell_type": "code",
   "execution_count": 8,
   "metadata": {},
   "outputs": [
    {
     "name": "stderr",
     "output_type": "stream",
     "text": [
      "/tmp/ipykernel_5174/1659688629.py:4: SettingWithCopyWarning: \n",
      "A value is trying to be set on a copy of a slice from a DataFrame\n",
      "\n",
      "See the caveats in the documentation: https://pandas.pydata.org/pandas-docs/stable/user_guide/indexing.html#returning-a-view-versus-a-copy\n",
      "  complete = complete.iloc[:,3:32].fillna(0, inplace=True)\n"
     ]
    }
   ],
   "source": [
    "complete = flow.merge(full_time,how='right',sort=True)\n",
    "complete.iloc[:,[1,2,32,33]].fillna(axis=1,method='ffill')\n",
    "complete.iloc[:,3:32].fillna(0, inplace=True)"
   ]
  },
  {
   "cell_type": "code",
   "execution_count": 9,
   "metadata": {},
   "outputs": [
    {
     "ename": "AttributeError",
     "evalue": "'NoneType' object has no attribute 'to_csv'",
     "output_type": "error",
     "traceback": [
      "\u001b[0;31m---------------------------------------------------------------------------\u001b[0m",
      "\u001b[0;31mAttributeError\u001b[0m                            Traceback (most recent call last)",
      "Cell \u001b[0;32mIn [9], line 1\u001b[0m\n\u001b[0;32m----> 1\u001b[0m complete\u001b[39m.\u001b[39;49mto_csv(\u001b[39m'\u001b[39m\u001b[39m/home/lzy/lab_env/Project/平望日频时频/原始/时频补全.csv\u001b[39m\u001b[39m'\u001b[39m)\n",
      "\u001b[0;31mAttributeError\u001b[0m: 'NoneType' object has no attribute 'to_csv'"
     ]
    }
   ],
   "source": [
    "complete.to_csv('/home/lzy/lab_env/Project/平望日频时频/原始/时频补全.csv')"
   ]
  }
 ],
 "metadata": {
  "kernelspec": {
   "display_name": "torch",
   "language": "python",
   "name": "python3"
  },
  "language_info": {
   "codemirror_mode": {
    "name": "ipython",
    "version": 3
   },
   "file_extension": ".py",
   "mimetype": "text/x-python",
   "name": "python",
   "nbconvert_exporter": "python",
   "pygments_lexer": "ipython3",
   "version": "3.9.7"
  },
  "orig_nbformat": 4,
  "vscode": {
   "interpreter": {
    "hash": "bae1e7d7ae0aa30632170e98703ac5ed5ff08457fc1e49a29106eaa03a22a111"
   }
  }
 },
 "nbformat": 4,
 "nbformat_minor": 2
}
