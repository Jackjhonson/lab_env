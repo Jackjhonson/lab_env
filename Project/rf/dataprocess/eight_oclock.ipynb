{
 "cells": [
  {
   "cell_type": "code",
   "execution_count": 56,
   "metadata": {},
   "outputs": [],
   "source": [
    "import numpy as np\n",
    "from numpy import array\n",
    "import pandas as pd\n",
    "from pandas import DataFrame"
   ]
  },
  {
   "cell_type": "markdown",
   "metadata": {},
   "source": [
    "### 水闸日频"
   ]
  },
  {
   "cell_type": "code",
   "execution_count": 66,
   "metadata": {},
   "outputs": [],
   "source": [
    "total_pingwang = pd.read_excel('水闸.xlsx')\n",
    "taifuzha = total_pingwang.iloc[:,0:2]"
   ]
  },
  {
   "cell_type": "code",
   "execution_count": 74,
   "metadata": {},
   "outputs": [
    {
     "name": "stdout",
     "output_type": "stream",
     "text": [
      "3923\n"
     ]
    }
   ],
   "source": [
    "total_time = len(taifuzha.iloc[9:94161,:])\n",
    "days = int(total_time/24)\n",
    "print(days)"
   ]
  },
  {
   "cell_type": "code",
   "execution_count": 60,
   "metadata": {},
   "outputs": [
    {
     "name": "stdout",
     "output_type": "stream",
     "text": [
      "0       2012-01-01 00:00:00\n",
      "1       2012-01-01 01:00:00\n",
      "2       2012-01-01 02:00:00\n",
      "3       2012-01-01 03:00:00\n",
      "4       2012-01-01 04:00:00\n",
      "                ...        \n",
      "94185                   NaT\n",
      "94186                   NaT\n",
      "94187                   NaT\n",
      "94188                   NaT\n",
      "94189                   NaT\n",
      "Name: TM_modi, Length: 94190, dtype: datetime64[ns]\n",
      "87263\n"
     ]
    }
   ],
   "source": [
    "print(taifuzha.iloc[:,0])\n",
    "print(taifuzha.iloc[:,2].count())"
   ]
  },
  {
   "cell_type": "code",
   "execution_count": 59,
   "metadata": {},
   "outputs": [
    {
     "ename": "KeyError",
     "evalue": "'TM_modi'",
     "output_type": "error",
     "traceback": [
      "\u001b[1;31m---------------------------------------------------------------------------\u001b[0m",
      "\u001b[1;31mKeyError\u001b[0m                                  Traceback (most recent call last)",
      "\u001b[1;32m~\\AppData\\Local\\Temp/ipykernel_18652/3653270601.py\u001b[0m in \u001b[0;36m<module>\u001b[1;34m\u001b[0m\n\u001b[1;32m----> 1\u001b[1;33m \u001b[0mzha\u001b[0m \u001b[1;33m=\u001b[0m \u001b[0mpd\u001b[0m\u001b[1;33m.\u001b[0m\u001b[0mmerge\u001b[0m\u001b[1;33m(\u001b[0m\u001b[0mtaifuzha\u001b[0m\u001b[1;33m.\u001b[0m\u001b[0miloc\u001b[0m\u001b[1;33m[\u001b[0m\u001b[1;33m:\u001b[0m\u001b[1;33m,\u001b[0m\u001b[1;36m0\u001b[0m\u001b[1;33m]\u001b[0m\u001b[1;33m,\u001b[0m\u001b[0mtaifuzha\u001b[0m\u001b[1;33m.\u001b[0m\u001b[0miloc\u001b[0m\u001b[1;33m[\u001b[0m\u001b[1;33m:\u001b[0m\u001b[1;33m,\u001b[0m\u001b[1;36m2\u001b[0m\u001b[1;33m:\u001b[0m\u001b[1;36m4\u001b[0m\u001b[1;33m]\u001b[0m\u001b[1;33m,\u001b[0m\u001b[0mon\u001b[0m\u001b[1;33m=\u001b[0m\u001b[1;33m[\u001b[0m\u001b[1;34m'TM_modi'\u001b[0m\u001b[1;33m]\u001b[0m\u001b[1;33m,\u001b[0m\u001b[0mhow\u001b[0m\u001b[1;33m=\u001b[0m\u001b[1;34m'outer'\u001b[0m\u001b[1;33m)\u001b[0m\u001b[1;33m\u001b[0m\u001b[1;33m\u001b[0m\u001b[0m\n\u001b[0m",
      "\u001b[1;32mc:\\Anaconda\\lib\\site-packages\\pandas\\core\\reshape\\merge.py\u001b[0m in \u001b[0;36mmerge\u001b[1;34m(left, right, how, on, left_on, right_on, left_index, right_index, sort, suffixes, copy, indicator, validate)\u001b[0m\n\u001b[0;32m    104\u001b[0m     \u001b[0mvalidate\u001b[0m\u001b[1;33m:\u001b[0m \u001b[0mstr\u001b[0m \u001b[1;33m|\u001b[0m \u001b[1;32mNone\u001b[0m \u001b[1;33m=\u001b[0m \u001b[1;32mNone\u001b[0m\u001b[1;33m,\u001b[0m\u001b[1;33m\u001b[0m\u001b[1;33m\u001b[0m\u001b[0m\n\u001b[0;32m    105\u001b[0m ) -> DataFrame:\n\u001b[1;32m--> 106\u001b[1;33m     op = _MergeOperation(\n\u001b[0m\u001b[0;32m    107\u001b[0m         \u001b[0mleft\u001b[0m\u001b[1;33m,\u001b[0m\u001b[1;33m\u001b[0m\u001b[1;33m\u001b[0m\u001b[0m\n\u001b[0;32m    108\u001b[0m         \u001b[0mright\u001b[0m\u001b[1;33m,\u001b[0m\u001b[1;33m\u001b[0m\u001b[1;33m\u001b[0m\u001b[0m\n",
      "\u001b[1;32mc:\\Anaconda\\lib\\site-packages\\pandas\\core\\reshape\\merge.py\u001b[0m in \u001b[0;36m__init__\u001b[1;34m(self, left, right, how, on, left_on, right_on, axis, left_index, right_index, sort, suffixes, copy, indicator, validate)\u001b[0m\n\u001b[0;32m    697\u001b[0m             \u001b[0mself\u001b[0m\u001b[1;33m.\u001b[0m\u001b[0mright_join_keys\u001b[0m\u001b[1;33m,\u001b[0m\u001b[1;33m\u001b[0m\u001b[1;33m\u001b[0m\u001b[0m\n\u001b[0;32m    698\u001b[0m             \u001b[0mself\u001b[0m\u001b[1;33m.\u001b[0m\u001b[0mjoin_names\u001b[0m\u001b[1;33m,\u001b[0m\u001b[1;33m\u001b[0m\u001b[1;33m\u001b[0m\u001b[0m\n\u001b[1;32m--> 699\u001b[1;33m         ) = self._get_merge_keys()\n\u001b[0m\u001b[0;32m    700\u001b[0m \u001b[1;33m\u001b[0m\u001b[0m\n\u001b[0;32m    701\u001b[0m         \u001b[1;31m# validate the merge keys dtypes. We may need to coerce\u001b[0m\u001b[1;33m\u001b[0m\u001b[1;33m\u001b[0m\u001b[0m\n",
      "\u001b[1;32mc:\\Anaconda\\lib\\site-packages\\pandas\\core\\reshape\\merge.py\u001b[0m in \u001b[0;36m_get_merge_keys\u001b[1;34m(self)\u001b[0m\n\u001b[0;32m   1094\u001b[0m                     \u001b[1;32mif\u001b[0m \u001b[1;32mnot\u001b[0m \u001b[0mis_rkey\u001b[0m\u001b[1;33m(\u001b[0m\u001b[0mrk\u001b[0m\u001b[1;33m)\u001b[0m\u001b[1;33m:\u001b[0m\u001b[1;33m\u001b[0m\u001b[1;33m\u001b[0m\u001b[0m\n\u001b[0;32m   1095\u001b[0m                         \u001b[1;32mif\u001b[0m \u001b[0mrk\u001b[0m \u001b[1;32mis\u001b[0m \u001b[1;32mnot\u001b[0m \u001b[1;32mNone\u001b[0m\u001b[1;33m:\u001b[0m\u001b[1;33m\u001b[0m\u001b[1;33m\u001b[0m\u001b[0m\n\u001b[1;32m-> 1096\u001b[1;33m                             \u001b[0mright_keys\u001b[0m\u001b[1;33m.\u001b[0m\u001b[0mappend\u001b[0m\u001b[1;33m(\u001b[0m\u001b[0mright\u001b[0m\u001b[1;33m.\u001b[0m\u001b[0m_get_label_or_level_values\u001b[0m\u001b[1;33m(\u001b[0m\u001b[0mrk\u001b[0m\u001b[1;33m)\u001b[0m\u001b[1;33m)\u001b[0m\u001b[1;33m\u001b[0m\u001b[1;33m\u001b[0m\u001b[0m\n\u001b[0m\u001b[0;32m   1097\u001b[0m                         \u001b[1;32melse\u001b[0m\u001b[1;33m:\u001b[0m\u001b[1;33m\u001b[0m\u001b[1;33m\u001b[0m\u001b[0m\n\u001b[0;32m   1098\u001b[0m                             \u001b[1;31m# work-around for merge_asof(right_index=True)\u001b[0m\u001b[1;33m\u001b[0m\u001b[1;33m\u001b[0m\u001b[0m\n",
      "\u001b[1;32mc:\\Anaconda\\lib\\site-packages\\pandas\\core\\generic.py\u001b[0m in \u001b[0;36m_get_label_or_level_values\u001b[1;34m(self, key, axis)\u001b[0m\n\u001b[0;32m   1777\u001b[0m             \u001b[0mvalues\u001b[0m \u001b[1;33m=\u001b[0m \u001b[0mself\u001b[0m\u001b[1;33m.\u001b[0m\u001b[0maxes\u001b[0m\u001b[1;33m[\u001b[0m\u001b[0maxis\u001b[0m\u001b[1;33m]\u001b[0m\u001b[1;33m.\u001b[0m\u001b[0mget_level_values\u001b[0m\u001b[1;33m(\u001b[0m\u001b[0mkey\u001b[0m\u001b[1;33m)\u001b[0m\u001b[1;33m.\u001b[0m\u001b[0m_values\u001b[0m\u001b[1;33m\u001b[0m\u001b[1;33m\u001b[0m\u001b[0m\n\u001b[0;32m   1778\u001b[0m         \u001b[1;32melse\u001b[0m\u001b[1;33m:\u001b[0m\u001b[1;33m\u001b[0m\u001b[1;33m\u001b[0m\u001b[0m\n\u001b[1;32m-> 1779\u001b[1;33m             \u001b[1;32mraise\u001b[0m \u001b[0mKeyError\u001b[0m\u001b[1;33m(\u001b[0m\u001b[0mkey\u001b[0m\u001b[1;33m)\u001b[0m\u001b[1;33m\u001b[0m\u001b[1;33m\u001b[0m\u001b[0m\n\u001b[0m\u001b[0;32m   1780\u001b[0m \u001b[1;33m\u001b[0m\u001b[0m\n\u001b[0;32m   1781\u001b[0m         \u001b[1;31m# Check for duplicates\u001b[0m\u001b[1;33m\u001b[0m\u001b[1;33m\u001b[0m\u001b[0m\n",
      "\u001b[1;31mKeyError\u001b[0m: 'TM_modi'"
     ]
    }
   ],
   "source": [
    "zha = pd.merge(taifuzha.iloc[:,0],taifuzha.iloc[:,2:4],on=['TM_modi'],how='outer')"
   ]
  },
  {
   "cell_type": "code",
   "execution_count": 50,
   "metadata": {},
   "outputs": [
    {
     "data": {
      "text/plain": [
       "Timestamp('2012-01-01 00:00:00')"
      ]
     },
     "execution_count": 50,
     "metadata": {},
     "output_type": "execute_result"
    }
   ],
   "source": [
    "taifuzha.iloc[0,0]"
   ]
  },
  {
   "cell_type": "code",
   "execution_count": 55,
   "metadata": {},
   "outputs": [
    {
     "ename": "TypeError",
     "evalue": "int() argument must be a string, a bytes-like object or a number, not 'tuple'",
     "output_type": "error",
     "traceback": [
      "\u001b[1;31m---------------------------------------------------------------------------\u001b[0m",
      "\u001b[1;31mTypeError\u001b[0m                                 Traceback (most recent call last)",
      "\u001b[1;32m~\\AppData\\Local\\Temp/ipykernel_18652/3954377981.py\u001b[0m in \u001b[0;36m<module>\u001b[1;34m\u001b[0m\n\u001b[0;32m      9\u001b[0m     \u001b[1;32mif\u001b[0m \u001b[0mtaifuzha\u001b[0m\u001b[1;33m.\u001b[0m\u001b[0miloc\u001b[0m\u001b[1;33m[\u001b[0m\u001b[0mi\u001b[0m\u001b[1;33m,\u001b[0m\u001b[1;36m2\u001b[0m\u001b[1;33m]\u001b[0m \u001b[1;32min\u001b[0m \u001b[0mlist\u001b[0m\u001b[1;33m(\u001b[0m\u001b[0mtaifuzha\u001b[0m\u001b[1;33m.\u001b[0m\u001b[0miloc\u001b[0m\u001b[1;33m[\u001b[0m\u001b[1;33m:\u001b[0m\u001b[1;33m,\u001b[0m\u001b[1;36m0\u001b[0m\u001b[1;33m]\u001b[0m\u001b[1;33m)\u001b[0m\u001b[1;33m:\u001b[0m\u001b[1;33m\u001b[0m\u001b[1;33m\u001b[0m\u001b[0m\n\u001b[0;32m     10\u001b[0m          \u001b[0mj\u001b[0m \u001b[1;33m=\u001b[0m \u001b[0mnp\u001b[0m\u001b[1;33m.\u001b[0m\u001b[0mwhere\u001b[0m\u001b[1;33m(\u001b[0m\u001b[0mtaifuzha\u001b[0m\u001b[1;33m.\u001b[0m\u001b[0miloc\u001b[0m\u001b[1;33m[\u001b[0m\u001b[1;33m:\u001b[0m\u001b[1;33m,\u001b[0m\u001b[1;36m0\u001b[0m\u001b[1;33m]\u001b[0m\u001b[1;33m==\u001b[0m\u001b[0mtaifuzha\u001b[0m\u001b[1;33m.\u001b[0m\u001b[0miloc\u001b[0m\u001b[1;33m[\u001b[0m\u001b[0mi\u001b[0m\u001b[1;33m,\u001b[0m\u001b[1;36m2\u001b[0m\u001b[1;33m]\u001b[0m\u001b[1;33m)\u001b[0m\u001b[1;33m\u001b[0m\u001b[1;33m\u001b[0m\u001b[0m\n\u001b[1;32m---> 11\u001b[1;33m          \u001b[0mtaifuzha\u001b[0m\u001b[1;33m.\u001b[0m\u001b[0miloc\u001b[0m\u001b[1;33m[\u001b[0m\u001b[0mint\u001b[0m\u001b[1;33m(\u001b[0m\u001b[0mj\u001b[0m\u001b[1;33m)\u001b[0m\u001b[1;33m,\u001b[0m\u001b[1;36m0\u001b[0m\u001b[1;33m]\u001b[0m \u001b[1;33m=\u001b[0m \u001b[0mtaifuzha\u001b[0m\u001b[1;33m.\u001b[0m\u001b[0miloc\u001b[0m\u001b[1;33m[\u001b[0m\u001b[0mi\u001b[0m\u001b[1;33m,\u001b[0m\u001b[1;36m2\u001b[0m\u001b[1;33m]\u001b[0m\u001b[1;33m\u001b[0m\u001b[1;33m\u001b[0m\u001b[0m\n\u001b[0m\u001b[0;32m     12\u001b[0m          \u001b[0mprint\u001b[0m\u001b[1;33m(\u001b[0m\u001b[0mtaifuzha\u001b[0m\u001b[1;33m.\u001b[0m\u001b[0miloc\u001b[0m\u001b[1;33m[\u001b[0m\u001b[0mj\u001b[0m\u001b[1;33m,\u001b[0m\u001b[1;36m0\u001b[0m\u001b[1;33m]\u001b[0m\u001b[1;33m)\u001b[0m\u001b[1;33m\u001b[0m\u001b[1;33m\u001b[0m\u001b[0m\n\u001b[0;32m     13\u001b[0m         \u001b[1;31m# print('true')\u001b[0m\u001b[1;33m\u001b[0m\u001b[1;33m\u001b[0m\u001b[0m\n",
      "\u001b[1;31mTypeError\u001b[0m: int() argument must be a string, a bytes-like object or a number, not 'tuple'"
     ]
    }
   ],
   "source": [
    "# set1 = set(taifuzha.iloc[:,0])\n",
    "# set2 = set(taifuzha.iloc[:,2])\n",
    "# print(len(set1),len(set2))\n",
    "# print(len(set1)-len(set2))\n",
    "# pingwanglevel_owning = sorted(set1&set2)\n",
    "# # print(pingwanglevel_owning)\n",
    "\n"
   ]
  },
  {
   "cell_type": "code",
   "execution_count": null,
   "metadata": {},
   "outputs": [],
   "source": []
  },
  {
   "cell_type": "code",
   "execution_count": 194,
   "metadata": {},
   "outputs": [
    {
     "name": "stdout",
     "output_type": "stream",
     "text": [
      "<class 'pandas.core.frame.DataFrame'>\n"
     ]
    },
    {
     "data": {
      "text/plain": [
       "Index(['TM', 'Z', 'Q', 'Unnamed: 3', 'STCD', 'TM.1', 'DRP', 'DYP',\n",
       "       'Unnamed: 8', 'IDTM', 'ACCPW', 'ACCDW', 'IDTM.1', 'ACCPW.1', 'ACCDW.1',\n",
       "       'IDTM.2', 'ACCPW.2', 'ACCDW.2', 'IDTM.3', 'ACCPW.3', 'ACCDW.3',\n",
       "       'IDTM.4', 'ACCPW.4', 'ACCDW.4'],\n",
       "      dtype='object')"
      ]
     },
     "execution_count": 194,
     "metadata": {},
     "output_type": "execute_result"
    }
   ],
   "source": [
    "total = pd.read_excel('苏州8点.xlsx',skiprows=1)\n",
    "print(type(total))\n",
    "total.columns"
   ]
  },
  {
   "cell_type": "code",
   "execution_count": 195,
   "metadata": {},
   "outputs": [
    {
     "data": {
      "text/plain": [
       "STCD    False\n",
       "TM      False\n",
       "DRP      True\n",
       "DYP      True\n",
       "dtype: bool"
      ]
     },
     "execution_count": 195,
     "metadata": {},
     "output_type": "execute_result"
    }
   ],
   "source": [
    "rainfall = total.iloc[:,4:8]\n",
    "rainfall = rainfall.rename(columns={'STCD':'STCD','TM.1':'TM'})\n",
    "rainfall.columns\n",
    "rainfall.isnull().any()"
   ]
  },
  {
   "cell_type": "code",
   "execution_count": 196,
   "metadata": {},
   "outputs": [
    {
     "name": "stdout",
     "output_type": "stream",
     "text": [
      "[63203000, 63204401, 63204450, 63204600, 63204650, 63204800, 63204850, 63205350, 63403200, 63403500, 63403600, 63404900]\n",
      "                       TM  DRP  DYP\n",
      "17    2012-01-09 08:00:00  NaN  0.3\n",
      "31    2012-01-14 08:00:00  NaN  3.2\n",
      "37    2012-01-15 08:00:00  NaN  4.3\n",
      "48    2012-01-16 08:00:00  NaN  4.3\n",
      "66    2012-01-19 08:00:00  NaN  5.8\n",
      "...                   ...  ...  ...\n",
      "39452 2022-09-24 08:00:00  0.0  0.0\n",
      "39475 2022-09-25 08:00:00  0.0  0.0\n",
      "39478 2022-09-26 08:00:00  0.0  0.0\n",
      "39489 2022-09-27 08:00:00  0.0  1.5\n",
      "39511 2022-09-28 08:00:00  0.0  0.5\n",
      "\n",
      "[3466 rows x 3 columns]\n"
     ]
    }
   ],
   "source": [
    "rainfall_id = rainfall.groupby('STCD')\n",
    "id_list = []\n",
    "time_list = []\n",
    "for i,j in rainfall_id:\n",
    "    # print(i,j)\n",
    "    id_list.append(i)\n",
    "    time_list.append(j.iloc[:,1:4])\n",
    "print(id_list)\n",
    "print(time_list[1])"
   ]
  },
  {
   "cell_type": "code",
   "execution_count": 197,
   "metadata": {},
   "outputs": [],
   "source": [
    "# [63203000, 63204401, 63204450, 63204600, 63204650, 63204800, 63204850, 63205350, 63403200, 63403500, 63403600, 63404900]\n",
    "# time_list_1= time_list[0].rename({'TM':'63001000'})\n",
    "time_list_1= time_list[0].rename({'TM':'63203000'})\n",
    "time_list_2= time_list[1].rename({'TM':'63204401'})\n",
    "time_list_3= time_list[2].rename({'TM':'63204450'})\n",
    "time_list_4= time_list[3].rename({'TM':'63204600'})\n",
    "time_list_5= time_list[4].rename({'TM':'63204650'})\n",
    "time_list_6= time_list[5].rename({'TM':'63204800'})\n",
    "# time_list_8= time_list[7].rename('63305200')\n",
    "time_list_7= time_list[6].rename({'TM':'63204850'})\n",
    "time_list_8= time_list[7].rename({'TM':'63205350'})\n",
    "\n",
    "# time_list_10= time_list[9].rename('63300800')\n",
    "# time_list_11= time_list[10].rename('63301150')\n",
    "# time_list_12= time_list[11].rename('63301600')\n",
    "# time_list_13= time_list[12].rename('63303400')\n",
    "# time_list_14= time_list[13].rename('63303600')\n",
    "# time_list_15= time_list[14].rename('63304400')\n",
    "# time_list_16= time_list[15].rename('63304800')\n",
    "# time_list_17= time_list[16].rename('63305200')\n",
    "# time_list_18= time_list[17].rename('63305800')\n",
    "# time_list_19= time_list[18].rename('63307200')\n",
    "# time_list_20= time_list[19].rename('63307800')\n",
    "# time_list_21= time_list[20].rename('63309200')\n",
    "# time_list_22= time_list[21].rename('63309600')\n",
    "# time_list_23= time_list[22].rename('63310400')\n",
    "# time_list_24= time_list[23].rename('63310600')\n",
    "# time_list_25= time_list[24].rename('63320600')\n",
    "\n",
    "# time_list_26= time_list[25].rename('63403200')\n",
    "# time_list_27= time_list[26].rename('63403500')\n",
    "# time_list_28= time_list[27].rename('63403600')\n",
    "# time_list_29= time_list[28].rename('63404900')\n",
    "\n",
    "time_list_9= time_list[8].rename({'TM':'63403200'})\n",
    "time_list_10= time_list[9].rename({'TM':'63403500'})\n",
    "time_list_11= time_list[10].rename({'TM':'63403600'})\n",
    "time_list_12= time_list[11].rename({'TM':'63404900'})"
   ]
  },
  {
   "cell_type": "code",
   "execution_count": 140,
   "metadata": {},
   "outputs": [],
   "source": [
    "# [63001000, 63203000, 63204401, 63204450, 63204600, 63204650, 63204800, 63204850, 63205350, 63300800, 63301150, 63301600,\n",
    "#  63303400, 63303600, 63304400, 63304800, 63305200, 63305800, 63307200, 63307800, 63309200, 63309600, 63310400, 63310600, \n",
    "#  63320600, 63403200, 63403500, 63403600, 63404900]\n",
    "# time_list_1= time_list[0].rename({'TM':'63001000'})\n",
    "# time_list_2= time_list[1].rename({'TM':'63203000'})\n",
    "# time_list_3= time_list[2].rename({'TM':'63204401'})\n",
    "# time_list_4= time_list[3].rename({'TM':'63204450'})\n",
    "# time_list_5= time_list[4].rename({'TM':'63204600'})\n",
    "# time_list_6= time_list[5].rename({'TM':'63204650'})\n",
    "# time_list_7= time_list[6].rename({'TM':'63204800'})\n",
    "# time_list_8= time_list[7].rename({'TM':'63204850'})\n",
    "# time_list_9= time_list[8].rename({'TM':'63205350'})\n",
    "# time_list_10= time_list[9].rename({'TM':'63300800'})\n",
    "# time_list_11= time_list[10].rename({'TM':'63301150'})\n",
    "# time_list_12= time_list[11].rename({'TM':'63301600'})\n",
    "# time_list_13= time_list[12].rename({'TM':'63303400'})\n",
    "# time_list_14= time_list[13].rename({'TM':'63303600'})\n",
    "# time_list_15= time_list[14].rename({'TM':'63304400'})\n",
    "# time_list_16= time_list[15].rename({'TM':'63304800'})\n",
    "# time_list_17= time_list[16].rename({'TM':'63305200'})\n",
    "# time_list_18= time_list[17].rename({'TM':'63305800'})\n",
    "# time_list_19= time_list[18].rename({'TM':'63307200'})\n",
    "# time_list_20= time_list[19].rename({'TM':'63307800'})\n",
    "# time_list_21= time_list[20].rename({'TM':'63309200'})\n",
    "# time_list_22= time_list[21].rename({'TM':'63309600'})\n",
    "# time_list_23= time_list[22].rename({'TM':'63310400'})\n",
    "# time_list_24= time_list[23].rename({'TM':'63310600'})\n",
    "# time_list_25= time_list[24].rename({'TM':'63320600'})\n",
    "# time_list_26= time_list[25].rename({'TM':'63403200'})\n",
    "# time_list_27= time_list[26].rename({'TM':'63403500'})\n",
    "# time_list_28= time_list[27].rename({'TM':'63403600'})\n",
    "# time_list_29= time_list[28].rename({'TM':'63404900'})"
   ]
  },
  {
   "cell_type": "code",
   "execution_count": 198,
   "metadata": {},
   "outputs": [],
   "source": [
    "rainfall = [time_list_1,time_list_2,time_list_3,time_list_4,time_list_5,time_list_6,time_list_7,time_list_8,time_list_9,\n",
    "            time_list_10,time_list_11,time_list_12]"
   ]
  },
  {
   "cell_type": "code",
   "execution_count": 141,
   "metadata": {},
   "outputs": [],
   "source": [
    "# rainfall = [time_list_1,time_list_2,time_list_3,time_list_4,time_list_5,time_list_6,time_list_7,time_list_8,time_list_9,\n",
    "#             time_list_10,time_list_11,time_list_12,time_list_13,time_list_14,time_list_15,time_list_16,time_list_17,time_list_18,\n",
    "#             time_list_19,time_list_20,time_list_21,time_list_22,time_list_23,time_list_24,time_list_25,time_list_26,time_list_27,time_list_28,time_list_29]"
   ]
  },
  {
   "cell_type": "code",
   "execution_count": 199,
   "metadata": {},
   "outputs": [],
   "source": [
    "rainfall_df = pd.concat([rainfall[0],rainfall[1],rainfall[2],rainfall[3],\n",
    "                                rainfall[4],rainfall[5],rainfall[6],rainfall[7],rainfall[8],\n",
    "                                rainfall[9],rainfall[10],rainfall[11]],join='outer',axis=1)"
   ]
  },
  {
   "cell_type": "code",
   "execution_count": 142,
   "metadata": {},
   "outputs": [],
   "source": [
    "# rainfall_df = pd.concat([rainfall[0],rainfall[1],rainfall[2],rainfall[3],\n",
    "#                                 rainfall[4],rainfall[5],rainfall[6],rainfall[7],rainfall[8],\n",
    "#                                 rainfall[9],rainfall[10],rainfall[11],rainfall[12],rainfall[13],\n",
    "#                                 rainfall[14],rainfall[15],rainfall[16],rainfall[17],rainfall[18],\n",
    "#                                 rainfall[19],rainfall[20],rainfall[21],rainfall[22],rainfall[23],\n",
    "#                                 rainfall[24],rainfall[25],rainfall[26],rainfall[27],rainfall[28]],join='outer',axis=1)"
   ]
  },
  {
   "cell_type": "code",
   "execution_count": 200,
   "metadata": {},
   "outputs": [
    {
     "data": {
      "text/plain": [
       "(39512, 36)"
      ]
     },
     "execution_count": 200,
     "metadata": {},
     "output_type": "execute_result"
    }
   ],
   "source": [
    "rainfall_df.shape"
   ]
  },
  {
   "cell_type": "code",
   "execution_count": 201,
   "metadata": {},
   "outputs": [
    {
     "data": {
      "text/html": [
       "<div>\n",
       "<style scoped>\n",
       "    .dataframe tbody tr th:only-of-type {\n",
       "        vertical-align: middle;\n",
       "    }\n",
       "\n",
       "    .dataframe tbody tr th {\n",
       "        vertical-align: top;\n",
       "    }\n",
       "\n",
       "    .dataframe thead th {\n",
       "        text-align: right;\n",
       "    }\n",
       "</style>\n",
       "<table border=\"1\" class=\"dataframe\">\n",
       "  <thead>\n",
       "    <tr style=\"text-align: right;\">\n",
       "      <th></th>\n",
       "      <th>TM</th>\n",
       "      <th>DRP</th>\n",
       "      <th>DYP</th>\n",
       "    </tr>\n",
       "  </thead>\n",
       "  <tbody>\n",
       "    <tr>\n",
       "      <th>7</th>\n",
       "      <td>2012-01-08 08:00:00</td>\n",
       "      <td>NaN</td>\n",
       "      <td>0.9</td>\n",
       "    </tr>\n",
       "    <tr>\n",
       "      <th>14</th>\n",
       "      <td>2012-01-09 08:00:00</td>\n",
       "      <td>NaN</td>\n",
       "      <td>0.5</td>\n",
       "    </tr>\n",
       "    <tr>\n",
       "      <th>32</th>\n",
       "      <td>2012-01-14 08:00:00</td>\n",
       "      <td>NaN</td>\n",
       "      <td>11.6</td>\n",
       "    </tr>\n",
       "    <tr>\n",
       "      <th>35</th>\n",
       "      <td>2012-01-15 08:00:00</td>\n",
       "      <td>NaN</td>\n",
       "      <td>9.7</td>\n",
       "    </tr>\n",
       "    <tr>\n",
       "      <th>47</th>\n",
       "      <td>2012-01-16 08:00:00</td>\n",
       "      <td>NaN</td>\n",
       "      <td>9.8</td>\n",
       "    </tr>\n",
       "    <tr>\n",
       "      <th>...</th>\n",
       "      <td>...</td>\n",
       "      <td>...</td>\n",
       "      <td>...</td>\n",
       "    </tr>\n",
       "    <tr>\n",
       "      <th>39463</th>\n",
       "      <td>2022-09-24 08:00:00</td>\n",
       "      <td>0.0</td>\n",
       "      <td>0.0</td>\n",
       "    </tr>\n",
       "    <tr>\n",
       "      <th>39471</th>\n",
       "      <td>2022-09-25 08:00:00</td>\n",
       "      <td>0.0</td>\n",
       "      <td>0.0</td>\n",
       "    </tr>\n",
       "    <tr>\n",
       "      <th>39483</th>\n",
       "      <td>2022-09-26 08:00:00</td>\n",
       "      <td>0.0</td>\n",
       "      <td>0.0</td>\n",
       "    </tr>\n",
       "    <tr>\n",
       "      <th>39494</th>\n",
       "      <td>2022-09-27 08:00:00</td>\n",
       "      <td>0.0</td>\n",
       "      <td>3.0</td>\n",
       "    </tr>\n",
       "    <tr>\n",
       "      <th>39503</th>\n",
       "      <td>2022-09-28 08:00:00</td>\n",
       "      <td>0.0</td>\n",
       "      <td>0.0</td>\n",
       "    </tr>\n",
       "  </tbody>\n",
       "</table>\n",
       "<p>3478 rows × 3 columns</p>\n",
       "</div>"
      ],
      "text/plain": [
       "                       TM  DRP   DYP\n",
       "7     2012-01-08 08:00:00  NaN   0.9\n",
       "14    2012-01-09 08:00:00  NaN   0.5\n",
       "32    2012-01-14 08:00:00  NaN  11.6\n",
       "35    2012-01-15 08:00:00  NaN   9.7\n",
       "47    2012-01-16 08:00:00  NaN   9.8\n",
       "...                   ...  ...   ...\n",
       "39463 2022-09-24 08:00:00  0.0   0.0\n",
       "39471 2022-09-25 08:00:00  0.0   0.0\n",
       "39483 2022-09-26 08:00:00  0.0   0.0\n",
       "39494 2022-09-27 08:00:00  0.0   3.0\n",
       "39503 2022-09-28 08:00:00  0.0   0.0\n",
       "\n",
       "[3478 rows x 3 columns]"
      ]
     },
     "execution_count": 201,
     "metadata": {},
     "output_type": "execute_result"
    }
   ],
   "source": [
    "rainfall[0]"
   ]
  },
  {
   "cell_type": "code",
   "execution_count": 202,
   "metadata": {},
   "outputs": [
    {
     "data": {
      "text/html": [
       "<div>\n",
       "<style scoped>\n",
       "    .dataframe tbody tr th:only-of-type {\n",
       "        vertical-align: middle;\n",
       "    }\n",
       "\n",
       "    .dataframe tbody tr th {\n",
       "        vertical-align: top;\n",
       "    }\n",
       "\n",
       "    .dataframe thead th {\n",
       "        text-align: right;\n",
       "    }\n",
       "</style>\n",
       "<table border=\"1\" class=\"dataframe\">\n",
       "  <thead>\n",
       "    <tr style=\"text-align: right;\">\n",
       "      <th></th>\n",
       "      <th>TM</th>\n",
       "      <th>DRP</th>\n",
       "      <th>DYP</th>\n",
       "    </tr>\n",
       "  </thead>\n",
       "  <tbody>\n",
       "    <tr>\n",
       "      <th>7</th>\n",
       "      <td>2012-01-08 08:00:00</td>\n",
       "      <td>NaN</td>\n",
       "      <td>0.9</td>\n",
       "    </tr>\n",
       "    <tr>\n",
       "      <th>14</th>\n",
       "      <td>2012-01-09 08:00:00</td>\n",
       "      <td>NaN</td>\n",
       "      <td>0.5</td>\n",
       "    </tr>\n",
       "    <tr>\n",
       "      <th>32</th>\n",
       "      <td>2012-01-14 08:00:00</td>\n",
       "      <td>NaN</td>\n",
       "      <td>11.6</td>\n",
       "    </tr>\n",
       "    <tr>\n",
       "      <th>35</th>\n",
       "      <td>2012-01-15 08:00:00</td>\n",
       "      <td>NaN</td>\n",
       "      <td>9.7</td>\n",
       "    </tr>\n",
       "    <tr>\n",
       "      <th>47</th>\n",
       "      <td>2012-01-16 08:00:00</td>\n",
       "      <td>NaN</td>\n",
       "      <td>9.8</td>\n",
       "    </tr>\n",
       "    <tr>\n",
       "      <th>...</th>\n",
       "      <td>...</td>\n",
       "      <td>...</td>\n",
       "      <td>...</td>\n",
       "    </tr>\n",
       "    <tr>\n",
       "      <th>39463</th>\n",
       "      <td>2022-09-24 08:00:00</td>\n",
       "      <td>0.0</td>\n",
       "      <td>0.0</td>\n",
       "    </tr>\n",
       "    <tr>\n",
       "      <th>39471</th>\n",
       "      <td>2022-09-25 08:00:00</td>\n",
       "      <td>0.0</td>\n",
       "      <td>0.0</td>\n",
       "    </tr>\n",
       "    <tr>\n",
       "      <th>39483</th>\n",
       "      <td>2022-09-26 08:00:00</td>\n",
       "      <td>0.0</td>\n",
       "      <td>0.0</td>\n",
       "    </tr>\n",
       "    <tr>\n",
       "      <th>39494</th>\n",
       "      <td>2022-09-27 08:00:00</td>\n",
       "      <td>0.0</td>\n",
       "      <td>3.0</td>\n",
       "    </tr>\n",
       "    <tr>\n",
       "      <th>39503</th>\n",
       "      <td>2022-09-28 08:00:00</td>\n",
       "      <td>0.0</td>\n",
       "      <td>0.0</td>\n",
       "    </tr>\n",
       "  </tbody>\n",
       "</table>\n",
       "<p>3478 rows × 3 columns</p>\n",
       "</div>"
      ],
      "text/plain": [
       "                       TM  DRP   DYP\n",
       "7     2012-01-08 08:00:00  NaN   0.9\n",
       "14    2012-01-09 08:00:00  NaN   0.5\n",
       "32    2012-01-14 08:00:00  NaN  11.6\n",
       "35    2012-01-15 08:00:00  NaN   9.7\n",
       "47    2012-01-16 08:00:00  NaN   9.8\n",
       "...                   ...  ...   ...\n",
       "39463 2022-09-24 08:00:00  0.0   0.0\n",
       "39471 2022-09-25 08:00:00  0.0   0.0\n",
       "39483 2022-09-26 08:00:00  0.0   0.0\n",
       "39494 2022-09-27 08:00:00  0.0   3.0\n",
       "39503 2022-09-28 08:00:00  0.0   0.0\n",
       "\n",
       "[3478 rows x 3 columns]"
      ]
     },
     "execution_count": 202,
     "metadata": {},
     "output_type": "execute_result"
    }
   ],
   "source": [
    "rainfall_df.iloc[:,0:3].dropna(axis=0, thresh=1)"
   ]
  },
  {
   "cell_type": "code",
   "execution_count": 203,
   "metadata": {},
   "outputs": [
    {
     "name": "stdout",
     "output_type": "stream",
     "text": [
      "(3478, 3)\n",
      "(3466, 3)\n",
      "(3464, 3)\n",
      "(3465, 3)\n",
      "(3487, 3)\n",
      "(3266, 3)\n",
      "(3477, 3)\n",
      "(3482, 3)\n",
      "(3904, 3)\n",
      "(3466, 3)\n",
      "(1927, 3)\n",
      "(2630, 3)\n"
     ]
    }
   ],
   "source": [
    "rainfall_fix = []\n",
    "for i in range(0, rainfall_df.shape[1], 3):\n",
    "    # rainfall_df.iloc[:,i:i+3].dropna(axis=0, thresh=1)\n",
    "    rainfall_fix.append(rainfall_df.iloc[:,i:i+3].dropna(axis=0, thresh=1))\n",
    "    print(rainfall_fix[i//3].shape)\n",
    "    # j = id_list[i//3]\n",
    "    rainfall_fix[i//3].to_csv(f'statid{i//3}.csv')\n",
    "\n",
    "\n",
    "# rainfall_df.shape"
   ]
  },
  {
   "cell_type": "code",
   "execution_count": 162,
   "metadata": {},
   "outputs": [
    {
     "data": {
      "text/plain": [
       "(75879, 87)"
      ]
     },
     "execution_count": 162,
     "metadata": {},
     "output_type": "execute_result"
    }
   ],
   "source": [
    "rainfall_fix_df.shape"
   ]
  },
  {
   "cell_type": "code",
   "execution_count": 120,
   "metadata": {},
   "outputs": [],
   "source": [
    "# rainfall_df = pd.DataFrame(rainfall_df)\n",
    "# rainfall_df = rainfall_df.iloc[:,0:3].dropna(axis=0, thresh=3)\n",
    "# rainfall_df = rainfall[0]\n",
    "rainfall_df.to_csv('rainfall_8clock.csv')"
   ]
  }
 ],
 "metadata": {
  "kernelspec": {
   "display_name": "Python 3.9.7 ('torch')",
   "language": "python",
   "name": "python3"
  },
  "language_info": {
   "codemirror_mode": {
    "name": "ipython",
    "version": 3
   },
   "file_extension": ".py",
   "mimetype": "text/x-python",
   "name": "python",
   "nbconvert_exporter": "python",
   "pygments_lexer": "ipython3",
   "version": "3.9.7"
  },
  "orig_nbformat": 4,
  "vscode": {
   "interpreter": {
    "hash": "bae1e7d7ae0aa30632170e98703ac5ed5ff08457fc1e49a29106eaa03a22a111"
   }
  }
 },
 "nbformat": 4,
 "nbformat_minor": 2
}
