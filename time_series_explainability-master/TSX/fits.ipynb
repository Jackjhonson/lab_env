{
 "cells": [
  {
   "cell_type": "code",
   "execution_count": null,
   "metadata": {},
   "outputs": [],
   "source": [
    "import torch\n",
    "import numpy as np"
   ]
  },
  {
   "cell_type": "code",
   "execution_count": null,
   "metadata": {},
   "outputs": [],
   "source": [
    "class FITs:\n",
    "    def __init__(self, model, activation=torch.nn.Softmax(-1)):\n",
    "        self.device = 'cuda' if torch.cuda.is_available() else 'cpu'\n",
    "        self.base_model = model.to(self.device)\n",
    "        self.activation = activation\n",
    "\n",
    "    def attribute(self, x, y, n_samples=10, distance_metric='kl'):\n",
    "        \"\"\"\n",
    "        Compute importance score for a sample x, over time and features\n",
    "        :param x: Sample instance to evaluate score for. Shape:[batch, features, time]\n",
    "        :param n_samples: number of Monte-Carlo samples\n",
    "        :return: Importance score matrix of shape:[batch, features, time]\n",
    "        \"\"\"\n",
    "        x = x.to(self.device)\n",
    "        _, n_features, t_len = x.shape\n",
    "        score = np.zeros(list(x.shape))\n",
    "\n",
    "        for t in range(1, t_len):\n",
    "\n",
    "            for i in range(n_features):\n",
    "                div_all=[]\n",
    "                for _ in range(n_samples):\n",
    "                    x_o = x[:,:,t].clone()\n",
    "                    z_o = x[:,:,np.random.randint(0, x.shape[1], dtype='int')].clone()\n",
    "                    x_o[:,i:,t] = z_o[:,i:]\n",
    "                    x_with_j = x_o\n",
    "                    x_o[:,i-1:,t] = z_o[:,i-1:]\n",
    "                    x_no_j = x_o\n",
    "                    y_with_j = self.activation(self.base_model(x_with_j))\n",
    "                    y_no_j = self.activation(self.base_model(x_no_j))\n",
    "                    div = torch.abs(y_with_j-y_no_j)\n",
    "                    div_all.append(np.mean(div.detach().cpu().numpy(), -1))\n",
    "                E_div = np.mean(np.array(div_all),axis=0)\n",
    "                score[:, i, t] = E_div\n",
    "        return score"
   ]
  }
 ],
 "metadata": {
  "language_info": {
   "name": "python"
  },
  "orig_nbformat": 4
 },
 "nbformat": 4,
 "nbformat_minor": 2
}
