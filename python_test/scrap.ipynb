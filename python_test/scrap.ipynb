{
 "cells": [
  {
   "cell_type": "code",
   "execution_count": 1,
   "metadata": {},
   "outputs": [],
   "source": [
    "import requests"
   ]
  },
  {
   "cell_type": "code",
   "execution_count": 12,
   "metadata": {},
   "outputs": [
    {
     "name": "stdout",
     "output_type": "stream",
     "text": [
      "200\n",
      "https://wappass.baidu.com/static/captcha/tuxing.html?&logid=12040830740837114812&ak=c27bbc89afca0463650ac9bde68ebe06&backurl=https%3A%2F%2Fwww.baidu.com%2Fs&ext=x9G9QDmMXq%2FNo87gjGO0P%2FwQ%2FPSxYaaiZXVh3ARb%2BMYaaeyhUvJM%2FH2FbXwC2V2ug1T9i%2F9aWxTqDk%2BHyX%2BPs0ChrtIMtQkyMCB6zc%2FRMjid5iRu%2BvDGTxi%2F3OX8v96DL4YLBcZA2VnmXDoB42J5FqgNjaVYFxC53U6q5godYvQ%3D&signature=b5f2b41d0d9ded113f992d82860fe6e2&timestamp=1702282081\n"
     ]
    }
   ],
   "source": [
    "headers = {\"User-Agent\":\"Mozilla/5.0 (Windows NT 10.0; Win64; x64) AppleWebKit/537.36 (KHTML, like Gecko) Chrome/120.0.0.0 Safari/537.36 Edg/120.0.0.0\"}\n",
    "params = {\"wd\":\"传智播客\"}\n",
    "url_temp = \"https://www.baidu.com/s?\"\n",
    "url = \"https://www.baidu.com/s?wd={}\".format(\"传智播客\")\n",
    "response = requests.get(url_temp,headers=headers)\n",
    "print(response.status_code)\n",
    "print(response.request.url)"
   ]
  },
  {
   "cell_type": "code",
   "execution_count": 8,
   "metadata": {},
   "outputs": [],
   "source": [
    "with open(\"a.png\",\"wb\") as f:\n",
    "    f.write(response.content) # content保存的是二进制内容"
   ]
  },
  {
   "cell_type": "code",
   "execution_count": 10,
   "metadata": {},
   "outputs": [
    {
     "data": {
      "text/plain": [
       "{'User-Agent': 'python-requests/2.25.1', 'Accept-Encoding': 'gzip, deflate', 'Accept': '*/*', 'Connection': 'keep-alive'}"
      ]
     },
     "execution_count": 10,
     "metadata": {},
     "output_type": "execute_result"
    }
   ],
   "source": [
    "# response.encoding = 'utf-8'\n",
    "response.content.decode()\n",
    "response.request.headers"
   ]
  },
  {
   "cell_type": "code",
   "execution_count": null,
   "metadata": {},
   "outputs": [],
   "source": [
    "class TiebaSpider:\n",
    "    \"\"\"访问成员变量或成员方法，需要使用self关键字\"\"\"\n",
    "    \"\"\"私有成员方法无法在类外被访问，但可以被内部成员变量以及方法调用\"\"\"\n",
    "    def __init__(self,tieba_name):\n",
    "        self.url_temp = \"https://tieba.baidu.com/f?kw\"+tieba_name+\"&ie=utf-8&pn={}\"\n",
    "        self.headers={\"User-Agent\":\"Mozilla/5.0 (Windows NT 10.0; Win64; x64) AppleWebKit/537.36 (KHTML, like Gecko) Chrome/120.0.0.0 Safari/537.36 Edg/120.0.0.0\"}\n",
    "\n",
    "    def get_url_list(self):\n",
    "        url_list = []\n",
    "        for i in range(100):\n",
    "            url_list.append(self.url_temp.format(i*50))\n",
    "        return url_list\n",
    "    def parse_url(self,url):\n",
    "        response = requests.get(url,headers=self.headers)\n",
    "        return response.content.decode()\n",
    "    def save_html(self,html_str,page_num):\n",
    "        file_path = \"{}-第{}页.html\".format(self.tieba_name,page_num)\n",
    "        with open(file_path,\"w\") as f:\n",
    "            f.write(html_str)\n",
    "    def run(self):\n",
    "        url_list = self.get_url_list()\n",
    "        for url in url_list:\n",
    "            html_str = self.parse_url(url)\n",
    "            page_num = url_list.index(url)\n",
    "            self.save_html(html_str,page_num)"
   ]
  },
  {
   "cell_type": "code",
   "execution_count": 14,
   "metadata": {},
   "outputs": [],
   "source": [
    "class Cat:\n",
    "    def __init__(self):\n",
    "        pass\n",
    "    def run(self):\n",
    "        pass\n",
    "    "
   ]
  },
  {
   "cell_type": "code",
   "execution_count": 22,
   "metadata": {},
   "outputs": [
    {
     "name": "stdout",
     "output_type": "stream",
     "text": [
      "你你你\n"
     ]
    }
   ],
   "source": [
    "class Student:\n",
    "    def __init__(self,name, age, tel):\n",
    "        self.name = name\n",
    "        self.age = age\n",
    "        self.tel = tel\n",
    "    def __str__(self):\n",
    "        return f\"Student类对象，name:{self.name}, age:{self.age}, tel:{self.tel}\"\n",
    "\n",
    "stu=Student(\"周杰伦\",31,111)\n",
    "str(stu)\n",
    "\n",
    "class Colleague(Student):\n",
    "    def run(self):\n",
    "        print(\"你你你\")\n",
    "Colleague(\"周杰伦\",31,111).run()"
   ]
  },
  {
   "cell_type": "code",
   "execution_count": null,
   "metadata": {},
   "outputs": [],
   "source": [
    "import socket\n",
    "socket_sever = socket.socket()\n",
    "socket_sever.bind(\"localhost\",8888)\n",
    "socket_sever.listen(1)\n",
    "conn, address = socket_sever.accept()\n",
    "# conn = result[0]\n",
    "# address = result[1]\n",
    "print(f\"接收到的客户端连接，客户端信息是，{address}\")\n",
    "data = conn.recv(1024).decode(\"Utf-8\") # 将字符数组编码为字符串对象\n",
    "print(f\"客户端发来的消息是:{data}\")\n",
    "conn.send()"
   ]
  },
  {
   "cell_type": "code",
   "execution_count": 9,
   "metadata": {},
   "outputs": [
    {
     "name": "stdout",
     "output_type": "stream",
     "text": [
      "[1, 4, 9, 16, 25]\n"
     ]
    }
   ],
   "source": [
    "def square(x):\n",
    "    return x * x\n",
    "numbers = [1,2,3,4,5]\n",
    "squares = map(square,numbers)\n",
    "print(list(squares))"
   ]
  },
  {
   "cell_type": "code",
   "execution_count": null,
   "metadata": {},
   "outputs": [],
   "source": [
    "import os\n",
    "os.rename('','')\n",
    "os.path.exists('')\n",
    "os.getcwd()\n",
    "os.chdir('')\n"
   ]
  },
  {
   "cell_type": "code",
   "execution_count": 6,
   "metadata": {},
   "outputs": [
    {
     "name": "stdout",
     "output_type": "stream",
     "text": [
      "子线程0结束\n",
      "子线程1结束\n",
      "子线程2结束\n",
      "子线程3结束\n",
      "子线程4结束\n",
      "子线程5结束\n",
      "子线程6结束\n",
      "子线程7结束\n",
      "子线程8结束\n",
      "子线程9结束\n",
      "主线程结束\n",
      "最后的账号余额为10\n"
     ]
    }
   ],
   "source": [
    "from threading import Thread,Lock\n",
    "from time import sleep\n",
    "bank = {\n",
    "    'byhy':0\n",
    "}\n",
    "\n",
    "bankLock = Lock()\n",
    "\n",
    "# 定义函数作为新线程执行的入口函数\n",
    "def deposit(threadidx, amount):\n",
    "    # 操作共享数据前，申请获取锁\n",
    "    bankLock.acquire()\n",
    "\n",
    "    balance = bank['byhy']\n",
    "    # 执行一些任务，耗费了0.1秒\n",
    "    sleep(0.1)\n",
    "    bank['byhy'] = balance + amount\n",
    "    print(f'子线程{threadidx}结束')\n",
    "\n",
    "    # 操作完共享数据后，申请释放锁\n",
    "    bankLock.release()\n",
    "\n",
    "threadlist = []\n",
    "for idx in range(10):\n",
    "    thread = Thread(target = deposit,\n",
    "                    args = (idx, 1)\n",
    "                    )\n",
    "    thread.start()\n",
    "    # 把线程对象存储到thradlist中\n",
    "    threadlist.append(thread)\n",
    "\n",
    "for thread in threadlist:\n",
    "    thread.join()\n",
    "print('主线程结束')\n",
    "print(f'最后的账号余额为{bank[\"byhy\"]}')"
   ]
  }
 ],
 "metadata": {
  "kernelspec": {
   "display_name": "base",
   "language": "python",
   "name": "python3"
  },
  "language_info": {
   "codemirror_mode": {
    "name": "ipython",
    "version": 3
   },
   "file_extension": ".py",
   "mimetype": "text/x-python",
   "name": "python",
   "nbconvert_exporter": "python",
   "pygments_lexer": "ipython3",
   "version": "3.8.8"
  }
 },
 "nbformat": 4,
 "nbformat_minor": 2
}
